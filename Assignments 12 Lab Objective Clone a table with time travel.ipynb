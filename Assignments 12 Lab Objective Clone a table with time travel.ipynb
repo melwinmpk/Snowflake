{
 "cells": [
  {
   "cell_type": "markdown",
   "id": "6ffb7ce4",
   "metadata": {},
   "source": [
    "<div class=\"practice--panel--ejs8J\"><div data-purpose=\"practice-component-text\" class=\"rt-scaffolding\"><h4>Lab Objective: Clone a table with time travel. </h4><p><strong>This hands-on activity walks through the cloning of a table with time travel. We clone the table as it existed before an update query was run to demonstrate how time travel can be used to clone tables at a particular point in time. Cloning with time travel can be used to stand up development &amp; testing environment based on production data but at a specific time.</strong></p><h4></h4><p><br></p><ol><li><p>We start by creating a new database called <em>test_timetravel_cloning.</em></p><div class=\"ud-component--base-components--code-block\"><div><pre class=\"prettyprint linenums prettyprinted\" role=\"presentation\" style=\"\"><ol class=\"linenums\"><li class=\"L0\"><span class=\"pln\">CREATE OR REPLACE DATABASE test_timetravel_cloning</span><span class=\"pun\">;</span></li><li class=\"L1\"><span class=\"pln\">USE DATABASE test_timetravel_cloning</span><span class=\"pun\">;</span></li></ol></pre></div></div><p><br></p></li><li><p>Next, we create a table that will be used to demonstrate cloning with time travel concepts. Let us load this table with data from the sample database. We are using the create table as (CTAS) expression to create this table which reads all data in the CUSTOMER table in the sample data database and populates a table with the same name in the test_timetravel_cloning database.</p><div class=\"ud-component--base-components--code-block\"><div><pre class=\"prettyprint linenums prettyprinted\" role=\"presentation\" style=\"\"><ol class=\"linenums\"><li class=\"L0\"><span class=\"pln\">CREATE TABLE test_timetravel_cloning</span><span class=\"pun\">.</span><span class=\"kwd\">public</span><span class=\"pun\">.</span><span class=\"pln\">CUSTOMER</span></li><li class=\"L1\"><span class=\"pln\">AS SELECT </span><span class=\"pun\">*</span><span class=\"pln\"> FROM SNOWFLAKE_SAMPLE_DATA</span><span class=\"pun\">.</span><span class=\"pln\">TPCH_SF10</span><span class=\"pun\">.</span><span class=\"pln\">CUSTOMER</span><span class=\"pun\">;</span></li></ol></pre></div></div><p><br></p></li><li><p>Let us find out the count of rows in this table. You should see around 1.5M rows in this table.</p><div class=\"ud-component--base-components--code-block\"><div><pre class=\"prettyprint linenums prettyprinted\" role=\"presentation\" style=\"\"><ol class=\"linenums\"><li class=\"L0\"><span class=\"pln\">SELECT COUNT</span><span class=\"pun\">(*)</span><span class=\"pln\"> FROM CUSTOMER</span><span class=\"pun\">;</span></li></ol></pre></div></div><p><br></p></li><li><p>Let us note the current time before we perform the next step. To do so, run the following SQL and make sure you save the output somewhere, e.g., in notepad.</p><div class=\"ud-component--base-components--code-block\"><div><pre class=\"prettyprint linenums prettyprinted\" role=\"presentation\" style=\"\"><ol class=\"linenums\"><li class=\"L0\"><span class=\"pln\">SELECT CURRENT_TIMESTAMP</span><span class=\"pun\">;</span></li></ol></pre></div></div><p><br></p></li><li><p>Let us update the customer table and set all names to John Smith.</p><div class=\"ud-component--base-components--code-block\"><div><pre class=\"prettyprint linenums prettyprinted\" role=\"presentation\" style=\"\"><ol class=\"linenums\"><li class=\"L0\"><span class=\"pln\">UPDATE CUSTOMER SET C_NAME </span><span class=\"pun\">=</span><span class=\"pln\"> </span><span class=\"str\">'John Smith'</span><span class=\"pun\">;</span></li></ol></pre></div></div><p><br></p></li><li><p>Now, we clone the CUSTOMER table to another table called CUSTOMER_COPY while using the Time Travel extensions. We will create the clone as it existed before the names were changed to John Smith. Please replace the <strong>&lt;timestamp&gt;</strong> below with the timestamp copied from step 4.</p><div class=\"ud-component--base-components--code-block\"><div><pre class=\"prettyprint linenums prettyprinted\" role=\"presentation\" style=\"\"><ol class=\"linenums\"><li class=\"L0\"><span class=\"pln\">CREATE TABLE CUSTOMER_COPY CLONE CUSTOMER BEFORE</span><span class=\"pun\">(</span><span class=\"pln\">TIMESTAMP </span><span class=\"pun\">=&gt;</span><span class=\"pln\"> </span><span class=\"str\">'&lt;timestamp&gt;'</span><span class=\"pun\">::</span><span class=\"pln\">timestamp_ltz</span><span class=\"pun\">);</span></li></ol></pre></div></div><p><br></p></li><li><p>Let us find distinct names in the cloned table. Since it was a clone before the update query was run, we should see several names in the result, not just John Smith.</p><div class=\"ud-component--base-components--code-block\"><div><pre class=\"prettyprint linenums prettyprinted\" role=\"presentation\" style=\"\"><ol class=\"linenums\"><li class=\"L0\"><span class=\"pln\">SELECT DISTINCT C_NAME FROM CUSTOMER_COPY</span></li></ol></pre></div></div></li></ol></div><div class=\"practice--question-list--1HR9g practice--mt-md--3j-aS\" data-purpose=\"question-list\"><h4 class=\"ud-heading-md practice--mb-xs--Lpg-b\">Questions for this assignment</h4><div><div class=\"question--question--152Yi\"><div class=\"ud-text-bold question--title--2FD-U\"><div data-purpose=\"safely-set-inner-html:rich-text-viewer:html\" class=\"question--title-text--2kBEO rt-scaffolding\"><p>What is the advantage of combining Cloning with Time Travel?</p></div></div><div class=\"question--answer--2ASXa\"></div></div></div></div></div>"
   ]
  },
  {
   "cell_type": "markdown",
   "id": "18d0e127",
   "metadata": {},
   "source": [
    "<p>\n",
    "<p><b>Q1 Ans</b></p>\n",
    "<p>By combining Cloning with Time Travel, you can create clones of tables as <br>\n",
    "they existed at a particular point in time or before certain queries were run. <br>\n",
    "Cloning with time travel can be used to stand up development & testing environment based <br>\n",
    "on production data but at a specific point in time.\n",
    "</p>\n",
    "</p>"
   ]
  },
  {
   "cell_type": "code",
   "execution_count": null,
   "id": "ca41bdd3",
   "metadata": {},
   "outputs": [],
   "source": []
  }
 ],
 "metadata": {
  "kernelspec": {
   "display_name": "Python 3 (ipykernel)",
   "language": "python",
   "name": "python3"
  },
  "language_info": {
   "codemirror_mode": {
    "name": "ipython",
    "version": 3
   },
   "file_extension": ".py",
   "mimetype": "text/x-python",
   "name": "python",
   "nbconvert_exporter": "python",
   "pygments_lexer": "ipython3",
   "version": "3.10.6"
  }
 },
 "nbformat": 4,
 "nbformat_minor": 5
}
