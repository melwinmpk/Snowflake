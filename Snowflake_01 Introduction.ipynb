{
 "cells": [
  {
   "cell_type": "markdown",
   "id": "083f0417",
   "metadata": {},
   "source": [
    "<h3>What is Snowflake</h3>\n",
    "<ul>\n",
    "    <li>\n",
    "            Build for the Cloud<br>\n",
    "            Build from scratch, optimized for cloud, storage & compute is decoupled\n",
    "    </li>\n",
    "    <li>Software as a Service <br>\n",
    "        No software, infrastructure or upgrades to manage\n",
    "    </li>\n",
    "    <li>Pay only for used compute & storage<br>\n",
    "        Storage & compute charged independently, only for use\n",
    "    </li>\n",
    "    <li>Scalable<br>\n",
    "        Virtual warehouse can scale, storage scales independently\n",
    "    </li>\n",
    "</ul>\n"
   ]
  },
  {
   "cell_type": "markdown",
   "id": "f0a6824d",
   "metadata": {},
   "source": [
    "<h3>Snowflake Journey</h3>\n",
    "\n",
    "<ol>\n",
    "    <li><b>2012</b>: Founded</li>\n",
    "    <li><b>2014</b>: Came out to the stealth mode</li>\n",
    "    <li><b>2015</b>: General availablity with 80 customers</li>\n",
    "    <li><b>2019</b>: Listed #2 forbes and #1 on Cloud 100</li>\n",
    "    <li><b>2020</b>: Listed on NYSE and saw an immediate doubling of stock value</li>\n",
    "    <li><b>2022</b>: 6300+ customers & 4500+ employees</li>\n",
    "</ol>"
   ]
  },
  {
   "cell_type": "markdown",
   "id": "1ce146fa",
   "metadata": {},
   "source": [
    "<h3>Snowflake Editions</h3>\n",
    "\n",
    "<table>\n",
    "      <tr>\n",
    "         <th style=\"text-align:left\"><b>STANDARD</b></th>\n",
    "         <th style=\"text-align:left\"><b>ENTERPRISE</b></th>\n",
    "         <th style=\"text-align:left\"><b>BUSINESS CRITICAL</b></th>\n",
    "         <th style=\"text-align:left\"><b>VIRTUAL PRIVATE SNOWFLAKE(VPS)</b></th>\n",
    "      </tr>\n",
    "      <tr>\n",
    "          <td>\n",
    "                  <ul style=\"text-align:left\">\n",
    "                        <li>1 Day of time travel</li>\n",
    "                        <li>Encryption</li>\n",
    "                        <li>Customer dedicated virtual warehouses</li>\n",
    "                        <li>Federated authentication</li>\n",
    "                        <li><b>Database replication</b></li>\n",
    "                        <li>External Functions</li>\n",
    "                        <li>Secure Data Sharing</li>\n",
    "                        <li>Data Exchange</li>\n",
    "                        <li>Data Marketplace access</li>\n",
    "                        <li>Snowsight</li>\n",
    "                        <li><b>UDFs</b></li>\n",
    "                    </ul>\n",
    "          </td>\n",
    "          <td>\n",
    "              <ul style=\"text-align:left\">\n",
    "                    <li><b><i>STANDARD+</i></b></li>\n",
    "                    <li>Up to 90 days of time travel</li>\n",
    "                    <li>Multi-cluster warehouse</li>\n",
    "                    <li>Materialized views</li>\n",
    "                    <li><b>Search Optmization Service</b></li>\n",
    "                    <li><b>Dynamic Data Masking</b></li>\n",
    "                    <li><b>External Data Tokenization</b></li>\n",
    "                    <li>Annual rekeying</li>\n",
    "                </ul>\n",
    "          </td>\n",
    "          <td>\n",
    "              <ul style=\"text-align:left\">\n",
    "                    <li><b><i>ENTERPRISE+</i></b></li>\n",
    "                    <li>Support for Private Connectivity</li>\n",
    "                    <li>HIPAA support</li>\n",
    "                    <li>PCI compliance</li>\n",
    "                  <li><b>Tri-Secret Secure Encryption</b></li>\n",
    "                    <li>Database failover and failback for business continuity</li>\n",
    "                </ul>\n",
    "          </td>\n",
    "          <td>\n",
    "              <ul style=\"text-align:left\">\n",
    "                    <li><b><i>BUSINESS CRITICAL+</i></b></li>\n",
    "                    <li>Customer-dedicated virtual servers</li>\n",
    "                    <li>Customer-dedicated meatadata store</li>\n",
    "                </ul>\n",
    "          </td>\n",
    "      </tr>    \n",
    "<table>    "
   ]
  },
  {
   "cell_type": "markdown",
   "id": "4832693c",
   "metadata": {},
   "source": [
    "<p>Which of the following are Snowflake Business Intelligence partners? Select all that apply.</p>\n",
    "<ul>\n",
    "<li><b>PowerBI</b></li>\n",
    "<li><b>Oracle</b></li>\n",
    "<li><b>MicroStrategy</b></li>\n",
    "<li><b>Looker</b></li>\n",
    "<li><b>Tableau</b></li>\n",
    "</ul>"
   ]
  },
  {
   "cell_type": "code",
   "execution_count": null,
   "id": "6d28c852",
   "metadata": {},
   "outputs": [],
   "source": []
  }
 ],
 "metadata": {
  "kernelspec": {
   "display_name": "Python 3 (ipykernel)",
   "language": "python",
   "name": "python3"
  },
  "language_info": {
   "codemirror_mode": {
    "name": "ipython",
    "version": 3
   },
   "file_extension": ".py",
   "mimetype": "text/x-python",
   "name": "python",
   "nbconvert_exporter": "python",
   "pygments_lexer": "ipython3",
   "version": "3.10.6"
  }
 },
 "nbformat": 4,
 "nbformat_minor": 5
}
