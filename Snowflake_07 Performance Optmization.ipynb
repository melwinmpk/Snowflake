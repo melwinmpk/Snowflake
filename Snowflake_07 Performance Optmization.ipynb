{
 "cells": [
  {
   "cell_type": "markdown",
   "id": "06fa7a97",
   "metadata": {},
   "source": [
    "<h3>Performance Factors</h3>\n",
    "<ul>\n",
    "<li>Caching</li>\n",
    "    <ul>\n",
    "        <li>Metadata Cache</li>\n",
    "        <li>Query Result Cache</li>\n",
    "        <li>Virtual Warehouse Cache aka Local Disk Catch</li>\n",
    "    </ul>\n",
    "<li>Scaling up</li>\n",
    "<li>Scaling Down</li>\n",
    "<li>Scaling Out - multi-cluster virtual warehouses</li>\n",
    "<li>Improved partition pruning via clustering keys</li>\n",
    "<li>Materialized Views</li>\n",
    "<li>Search Optmization</li>\n",
    "</ul>"
   ]
  },
  {
   "cell_type": "markdown",
   "id": "d2c0894f",
   "metadata": {},
   "source": [
    "<h3>Query Profile</h3>\n",
    "<ul>\n",
    "    <li>Provides a graphical representation of a query's execution</li>\n",
    "    <li>Provides execution details for a query</li>\n",
    "    <li>Statistics and details for each step</li>\n",
    "    <li>Statistics and details for the whole query</li>\n",
    "</ul>"
   ]
  },
  {
   "cell_type": "markdown",
   "id": "5f8f912d",
   "metadata": {},
   "source": [
    "<h3>Caching in Snowflake</h3>\n",
    "<ul>\n",
    "    <li>Query result Cache (Colud Services)</li>\n",
    "    <li>Metadata Cache (Colud Services)</li>\n",
    "    <li>Virtual Warehouse or Local Disk Cache (Virtual Warehouses)</li>\n",
    "</ul>"
   ]
  },
  {
   "cell_type": "markdown",
   "id": "25ad21bd",
   "metadata": {},
   "source": [
    "<h4>Query result Cache</h4>\n",
    "<ul>\n",
    "    <li>When a query is executed, Snowflake caches the query results for a period.</li>\n",
    "    <li>Snowflake uses the query result cache to avoid re-executing queries when there are no changes to data</li>\n",
    "    <li>Query Result Cache is used by a new query if</li>\n",
    "    <ul>\n",
    "        <li>The query syntatically maches the perviously executed query</li>\n",
    "        <li>The data in underlying table hasn't changed, and the micro-partitions haven't changed</li>\n",
    "        <li>the query dosen't use functions that are evaluated at runtime, or UDF or external functions</li>\n",
    "        <li>The security role running the query has the required privileges</li>\n",
    "        <li>(few other aspects also influence if Query Result Cache will be used)</li>\n",
    "        <li>Query result cache for a given query stays vaid for 24 hours</li>\n",
    "        <li>However, if a query is run which uses the query result cache, the validity is reset for another 24 hours</li>\n",
    "        <li>Query Result Cache for a given query may stay valid up to maximum of 31 days after which is purged</li>\n",
    "    </ul>\n",
    "    <li>Query Result Cache is enabled by default</li>\n",
    "    <li>But in can be turned off at a session level, user level or at the account level</li>\n",
    "    <li>Using the USE_CACHED_RESULT parameter</li>\n",
    "</ul>"
   ]
  },
  {
   "cell_type": "markdown",
   "id": "93745d26",
   "metadata": {},
   "source": [
    "<b>refer assignment 17</b>"
   ]
  },
  {
   "cell_type": "markdown",
   "id": "d27f6150",
   "metadata": {},
   "source": [
    "<h4>Metadata Cache</h4>\n",
    "\n",
    "<p>Snowflake stores metadata about new micropartitions, storing maximum and minumum values for each column for each micro-partition<br>\n",
    "It also stores the count of distinct values for each column in the metadata<br>\n",
    "for query such as COUNT, MIN  or MAX, Snowflake does not need to read the table, but can pull information frm the metadata cache\n",
    "</p>\n"
   ]
  },
  {
   "cell_type": "markdown",
   "id": "b6031f6b",
   "metadata": {},
   "source": [
    "<b>refer assignment 18</b>"
   ]
  },
  {
   "cell_type": "markdown",
   "id": "2b8c9981",
   "metadata": {},
   "source": [
    "<h4>Virtual Warehouse Cache</h4>\n",
    "<ul>\n",
    "    <li>If a query does not meet the criteria for results to be returned from the metadata cache or query result cache, the query is sent to a virtual warehouse to be processed.</li>\n",
    "    <li>Virtual Warehouses maintain a cache of table data that they access while processing queries</li>\n",
    "    <li>Warehouses Cache may be re-used if subsequent queries can read the required data from cache rather then from the table</li>\n",
    "    <li>The Warehouse cache is removed if the virtual warehouse is suspended</li>\n",
    "    <li>The size of the cache related to the size of the virtual warehouse, bigger the virtual warehouse size, larger the cache</li>\n",
    "</ul>"
   ]
  },
  {
   "cell_type": "markdown",
   "id": "6c5f2ee7",
   "metadata": {},
   "source": [
    "#### refer assignment 19"
   ]
  },
  {
   "cell_type": "code",
   "execution_count": null,
   "id": "f4dc81ab",
   "metadata": {},
   "outputs": [],
   "source": []
  }
 ],
 "metadata": {
  "kernelspec": {
   "display_name": "Python 3 (ipykernel)",
   "language": "python",
   "name": "python3"
  },
  "language_info": {
   "codemirror_mode": {
    "name": "ipython",
    "version": 3
   },
   "file_extension": ".py",
   "mimetype": "text/x-python",
   "name": "python",
   "nbconvert_exporter": "python",
   "pygments_lexer": "ipython3",
   "version": "3.10.6"
  }
 },
 "nbformat": 4,
 "nbformat_minor": 5
}
