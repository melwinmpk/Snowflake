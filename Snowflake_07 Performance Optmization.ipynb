{
 "cells": [
  {
   "cell_type": "markdown",
   "id": "06fa7a97",
   "metadata": {},
   "source": [
    "<h3>Performance Factors</h3>\n",
    "<ul>\n",
    "<li>Caching</li>\n",
    "    <ul>\n",
    "        <li>Metadata Cache</li>\n",
    "        <li>Query Result Cache</li>\n",
    "        <li>Virtual Warehouse Cache aka Local Disk Catch</li>\n",
    "    </ul>\n",
    "<li>Scaling up</li>\n",
    "<li>Scaling Down</li>\n",
    "<li>Scaling Out - multi-cluster virtual warehouses</li>\n",
    "<li>Improved partition pruning via clustering keys</li>\n",
    "<li>Materialized Views</li>\n",
    "<li>Search Optmization</li>\n",
    "</ul>"
   ]
  },
  {
   "cell_type": "markdown",
   "id": "d2c0894f",
   "metadata": {},
   "source": [
    "<h3>Query Profile</h3>\n",
    "<ul>\n",
    "    <li>Provides a graphical representation of a query's execution</li>\n",
    "    <li>Provides execution details for a query</li>\n",
    "    <li>Statistics and details for each step</li>\n",
    "    <li>Statistics and details for the whole query</li>\n",
    "</ul>"
   ]
  },
  {
   "cell_type": "code",
   "execution_count": null,
   "id": "38958e9e",
   "metadata": {},
   "outputs": [],
   "source": []
  }
 ],
 "metadata": {
  "kernelspec": {
   "display_name": "Python 3 (ipykernel)",
   "language": "python",
   "name": "python3"
  },
  "language_info": {
   "codemirror_mode": {
    "name": "ipython",
    "version": 3
   },
   "file_extension": ".py",
   "mimetype": "text/x-python",
   "name": "python",
   "nbconvert_exporter": "python",
   "pygments_lexer": "ipython3",
   "version": "3.10.6"
  }
 },
 "nbformat": 4,
 "nbformat_minor": 5
}
