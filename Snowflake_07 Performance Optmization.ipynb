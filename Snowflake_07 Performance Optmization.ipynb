{
 "cells": [
  {
   "cell_type": "markdown",
   "id": "06fa7a97",
   "metadata": {},
   "source": [
    "<h3>Performance Factors</h3>\n",
    "<ul>\n",
    "<li>Caching</li>\n",
    "    <ul>\n",
    "        <li>Metadata Cache</li>\n",
    "        <li>Query Result Cache</li>\n",
    "        <li>Virtual Warehouse Cache aka Local Disk Catch</li>\n",
    "    </ul>\n",
    "<li>Scaling up</li>\n",
    "<li>Scaling Down</li>\n",
    "<li>Scaling Out - multi-cluster virtual warehouses</li>\n",
    "<li>Improved partition pruning via clustering keys</li>\n",
    "<li>Materialized Views</li>\n",
    "<li>Search Optmization</li>\n",
    "</ul>"
   ]
  },
  {
   "cell_type": "markdown",
   "id": "d2c0894f",
   "metadata": {},
   "source": [
    "<h3>Query Profile</h3>\n",
    "<ul>\n",
    "    <li>Provides a graphical representation of a query's execution</li>\n",
    "    <li>Provides execution details for a query</li>\n",
    "    <li>Statistics and details for each step</li>\n",
    "    <li>Statistics and details for the whole query</li>\n",
    "</ul>"
   ]
  },
  {
   "cell_type": "markdown",
   "id": "5f8f912d",
   "metadata": {},
   "source": [
    "<h3>Caching in Snowflake</h3>\n",
    "<ul>\n",
    "    <li>Query result Cache (Colud Services)</li>\n",
    "    <li>Metadata Cache (Colud Services)</li>\n",
    "    <li>Virtual Warehouse or Local Disk Cache (Virtual Warehouses)</li>\n",
    "</ul>"
   ]
  },
  {
   "cell_type": "markdown",
   "id": "25ad21bd",
   "metadata": {},
   "source": [
    "<h4>Query result Cache</h4>\n",
    "<ul>\n",
    "    <li>When a query is executed, Snowflake caches the query results for a period.</li>\n",
    "    <li>Snowflake uses the query result cache to avoid re-executing queries when there are no changes to data</li>\n",
    "    <li>Query Result Cache is used by a new query if</li>\n",
    "    <ul>\n",
    "        <li>The query syntatically maches the perviously executed query</li>\n",
    "        <li>The data in underlying table hasn't changed, and the micro-partitions haven't changed</li>\n",
    "        <li>the query dosen't use functions that are evaluated at runtime, or UDF or external functions</li>\n",
    "        <li>The security role running the query has the required privileges</li>\n",
    "        <li>(few other aspects also influence if Query Result Cache will be used)</li>\n",
    "        <li>Query result cache for a given query stays vaid for 24 hours</li>\n",
    "        <li>However, if a query is run which uses the query result cache, the validity is reset for another 24 hours</li>\n",
    "        <li>Query Result Cache for a given query may stay valid up to maximum of 31 days after which is purged</li>\n",
    "    </ul>\n",
    "    <li>Query Result Cache is enabled by default</li>\n",
    "    <li>But in can be turned off at a session level, user level or at the account level</li>\n",
    "    <li>Using the USE_CACHED_RESULT parameter</li>\n",
    "</ul>"
   ]
  },
  {
   "cell_type": "markdown",
   "id": "93745d26",
   "metadata": {},
   "source": [
    "<b>refer assignment 17</b>"
   ]
  },
  {
   "cell_type": "markdown",
   "id": "d27f6150",
   "metadata": {},
   "source": [
    "<h4>Metadata Cache</h4>\n",
    "\n",
    "<p>Snowflake stores metadata about new micropartitions, storing maximum and minumum values for each column for each micro-partition<br>\n",
    "It also stores the count of distinct values for each column in the metadata<br>\n",
    "for query such as COUNT, MIN  or MAX, Snowflake does not need to read the table, but can pull information frm the metadata cache\n",
    "</p>\n"
   ]
  },
  {
   "cell_type": "markdown",
   "id": "b6031f6b",
   "metadata": {},
   "source": [
    "<b>refer assignment 18</b>"
   ]
  },
  {
   "cell_type": "markdown",
   "id": "2b8c9981",
   "metadata": {},
   "source": [
    "<h4>Virtual Warehouse Cache</h4>\n",
    "<ul>\n",
    "    <li>If a query does not meet the criteria for results to be returned from the metadata cache or query result cache, the query is sent to a virtual warehouse to be processed.</li>\n",
    "    <li>Virtual Warehouses maintain a cache of table data that they access while processing queries</li>\n",
    "    <li>Warehouses Cache may be re-used if subsequent queries can read the required data from cache rather then from the table</li>\n",
    "    <li>The Warehouse cache is removed if the virtual warehouse is suspended</li>\n",
    "    <li>The size of the cache related to the size of the virtual warehouse, bigger the virtual warehouse size, larger the cache</li>\n",
    "</ul>"
   ]
  },
  {
   "cell_type": "markdown",
   "id": "6c5f2ee7",
   "metadata": {},
   "source": [
    "#### refer assignment 19"
   ]
  },
  {
   "cell_type": "markdown",
   "id": "92f0adeb",
   "metadata": {},
   "source": [
    "<h3>Partition Pruning</h3>\n",
    "<p>Micro partitions are added to a table in the order in which the data is received.\n",
    "Additional micro partitions are produced when data is added to a table.<br>\n",
    "Because the column values are scattered across numerous micro partitions.<br>\n",
    "Snowflake must keep track of what range of data is kept in which micro partition for each column.<br>\n",
    "This metadata enables Snowflake to eliminate unnecessary micro partitions when running queries.<br>\n",
    "Therefore boosting the overall query performance.<br>\n",
    "This process of eliminating micro partitions is also known as partition pruning.</p>"
   ]
  },
  {
   "cell_type": "markdown",
   "id": "69073fcf",
   "metadata": {},
   "source": [
    "<p>So generally, tables in Snowflake are well clustered by default.<br>\n",
    "However, the data may not be stored optimally for large tables, especially if queries on large tables</br>\n",
    "are primarily predicated on a specific column or a specific subset of columns.</br>\n",
    "Since micro partitions are produced in the order of the arrival of the data over time, the data in<br>\n",
    "micro partitions may not be optimally stored and may not support optimal partition pruning.</p>\n",
    "\n",
    "<p>For example, the micro partitions shown on the screen do not enable effective partition pruning if<br>\n",
    "most queries are based on the store column.<br>\n",
    "If queries are mostly predicated on the store column as shown on the screen, queries may perform better<br>\n",
    "if the table is clustered on the store column with no clustering in place and for the data shown on</p>"
   ]
  },
  {
   "cell_type": "markdown",
   "id": "ae0c29d2",
   "metadata": {},
   "source": [
    "<h3>Automatic Clustering</h3>\n",
    "<ul>\n",
    "    <li>Automatic Clustering</li>\n",
    "    <ul>\n",
    "        <li>Snowflake service responsible for re-clustering tables</li>\n",
    "    </ul>\n",
    "    <li>Automatic Clustering redistributes data according to cluster key</li>\n",
    "    <ul>\n",
    "        <li>Redistributes only if determines that the table will benefit from re-clstering</li>\n",
    "    </ul>\n",
    "    <li>Automatic Clustering is Serverless</li>\n",
    "    <ul>\n",
    "        <li>Does not use virtual warehouse</li>\n",
    "        <li>Uses Snowflake managed CPU, RAM etc</li>\n",
    "        <li>You are charged for re-clustering costs as it involves compute</li>\n",
    "    </ul>\n",
    "    <li>Re-clustering also involves additional storage costs</li>\n",
    "    <ul>\n",
    "        <li>The original micro-partitions are kept for fail-safe and time-travel purposes</li>\n",
    "    </ul>\n",
    "</ul>\n",
    "\n",
    "<h3>Query Profile: Partition Pruning</h3>\n",
    "<ul>\n",
    "    <li>Partitions scanned</li>\n",
    "    <ul>\n",
    "        <li>how many partitions have been scanned so far</li>\n",
    "    </ul>    \n",
    "    <li>Partitions total</li>\n",
    "    <ul>\n",
    "        <li>a table's total number of partitions</li>\n",
    "    </ul>    \n",
    "</ul>    "
   ]
  },
  {
   "cell_type": "markdown",
   "id": "2b248b57",
   "metadata": {},
   "source": [
    "<h3>Virtual Warehouse Optmizations</h3>\n",
    "\n",
    "<ul>\n",
    "    <li>Scale up</li>\n",
    "    <ul>\n",
    "        <li>When query complexity increases</li>\n",
    "    </ul>\n",
    "    <li>Scale Down</li>\n",
    "    <ul>\n",
    "        <li>When query complexity decreases</li>\n",
    "    </ul>\n",
    "    <li>Multi-cluster virtual ware houses</li>\n",
    "    <ul>\n",
    "        <li>When there is a high query concurrency i.e large number of simulatneous quries and <br> the workload flucutations is un-predictble</li>\n",
    "    </ul>\n",
    "    <li>A virtual warehouse can be resized as per requiremnts</li>\n",
    "    <li>The resize can be to a large size in which case new nodes are provisioned</li>\n",
    "    <li>the charge for the new size takes effect only after all nodes in the new size have been provisioned</li>\n",
    "    <li>Currently running queries can not take advantage of the increases size</li>\n",
    "    <li>Only new queries will be able to take advantage of the increased cluster size</li>\n",
    "    <li>A virtual warehouse can be resized to a smaller size</li>\n",
    "    <li>Resizing to a smaller size results in Snowflake decommissioning un-necessary nodes</li>\n",
    "    <li>The resize down can only complete once all active queries running on that specific virtual warehouse have completed</li>\n",
    "</ul>"
   ]
  },
  {
   "cell_type": "markdown",
   "id": "d1ca5891",
   "metadata": {},
   "source": [
    "<pre>\n",
    "ALTER WAREHOUSE < warehouse_name >\n",
    "SET WAREHOUSE_SIZE = XSMALL | SMALL | MEDIUM | LARGE | XLARGE | XXLARGE | XXXLARGE | X4LARGE | X5LARGE | X6LARGE;\n",
    "</pre>"
   ]
  },
  {
   "cell_type": "markdown",
   "id": "b87d2c37",
   "metadata": {},
   "source": [
    "<h3>Materalized View</h3>\n",
    "<ul>\n",
    "    <li>Materalized view store pre-computed results based on a SELECT query</li>\n",
    "    <li>Results are pre-computed and physically stored</li>\n",
    "    <li>Data in Materalized Views are kept up to date by Snowflake service</li>\n",
    "    <li>The service ensures that data is always in sync with the base table</li>\n",
    "    <li>Snowflake transparently re-routes queries to the base table if the materalized view hasen't been synced yet</li>\n",
    "    <li>Materalized view can be helpful if</li>\n",
    "    <ul>\n",
    "        <li>A query (or its variation) is executed frequently</li>\n",
    "        <li>The query is complex and requires a significant amount of time/resources</li>\n",
    "        <li>The query results are generally consistent and don't change too often</li>\n",
    "    </ul>    \n",
    "</ul>"
   ]
  },
  {
   "cell_type": "markdown",
   "id": "312b853b",
   "metadata": {},
   "source": [
    "<h3>Search Optmization</h3>\n",
    "<ul>\n",
    "    <li>Snowflake Search Optmization is similar to the secondary index concept</li>\n",
    "    <li>Can improve the performanceof</li>\n",
    "    <ul>\n",
    "        <li>point look-up queries</li>\n",
    "        <li>Queries that use a large number of predicates</li>\n",
    "    </ul>\n",
    "    <li>Uses a separate persistent data structure providing optmizws search paths</li>\n",
    "    <ul>\n",
    "        <li>Maintained by Search Optmization Service</li>\n",
    "    </ul>\n",
    "    <li>Can br configures for a table for a seocific columns</li>\n",
    "    <li>Search optization service runs in the background</li>\n",
    "    <ul>\n",
    "        <li>Managed by Snowflake and doesn't required a virtual warhouse</li>\n",
    "        <li>Transparent to the user</li>\n",
    "    </ul>    \n",
    "    <li>Requires Enterprise Edition or above</li>\n",
    "</ul>"
   ]
  },
  {
   "cell_type": "markdown",
   "id": "7da9072b",
   "metadata": {},
   "source": [
    "<b>What is the maximum duration for which the query result cache for a query can be retained?</b>\n",
    "<ul>\n",
    "    <li>24 hours</li>\n",
    "    <li><b>31 days</b></li>\n",
    "    <li>365 days</li>\n",
    "    <li>3600 seconds</li>\n",
    "</ul>\n",
    "\n",
    "<p>Once a result cache is generated for a query stays valid for 24 hours. If another query that reuses the query result cache is executed within that 24-hour window, the result cache expiry is extended for another 24 hours from that point onwards. If the result cache for a query keeps getting used, it will stay valid for up to 31 days. After 31 days, the result cache for a query will be purged regardless of any other condition.</p>"
   ]
  },
  {
   "cell_type": "code",
   "execution_count": null,
   "id": "81fa5b60",
   "metadata": {},
   "outputs": [],
   "source": []
  }
 ],
 "metadata": {
  "kernelspec": {
   "display_name": "Python 3 (ipykernel)",
   "language": "python",
   "name": "python3"
  },
  "language_info": {
   "codemirror_mode": {
    "name": "ipython",
    "version": 3
   },
   "file_extension": ".py",
   "mimetype": "text/x-python",
   "name": "python",
   "nbconvert_exporter": "python",
   "pygments_lexer": "ipython3",
   "version": "3.10.6"
  }
 },
 "nbformat": 4,
 "nbformat_minor": 5
}
