{
 "cells": [
  {
   "cell_type": "markdown",
   "id": "ad7b6e5f",
   "metadata": {},
   "source": [
    "<div class=\"practice--panel--ejs8J\"><div data-purpose=\"practice-component-text\" class=\"rt-scaffolding\"><h4>Lab Objectives: This hands-on activity walks through the cloning of a table, demonstrating how much faster the operation is compared to a standard copy operation. This hands-on exercise also shows that updates may be made to a source and cloned table independently.</h4><p><br></p><ol><li><p>We start by creating a new database called <em>test_cloning.</em></p><div class=\"ud-component--base-components--code-block\"><div><pre class=\"prettyprint linenums prettyprinted\" role=\"presentation\" style=\"\"><ol class=\"linenums\"><li class=\"L0\"><span class=\"pln\">CREATE OR REPLACE DATABASE test_cloning</span><span class=\"pun\">;</span></li><li class=\"L1\"><span class=\"pln\">USE DATABASE test_cloning</span><span class=\"pun\">;</span></li></ol></pre></div></div><p><br></p></li><li><p>Next, we create a table that will be used to demonstrate the cloning concepts. Let us load this table with data from the sample database. Note that we have purposely chosen a table approximately 10GB in size to demonstrate the relatively long duration it takes to copy a large table physically. Using an X-Small virtual warehouse, the creation operation took approximately 2 minutes. We are using the create table as (CTAS) expression to create this table which reads all data in the CUSTOMER table in the sample data database and populates a table with the same name in the test_cloning database.</p><div class=\"ud-component--base-components--code-block\"><div><pre class=\"prettyprint linenums prettyprinted\" role=\"presentation\" style=\"\"><ol class=\"linenums\"><li class=\"L0\"><span class=\"pln\">CREATE TABLE test_cloning</span><span class=\"pun\">.</span><span class=\"kwd\">public</span><span class=\"pun\">.</span><span class=\"pln\">CUSTOMER</span></li><li class=\"L1\"><span class=\"pln\">AS SELECT </span><span class=\"pun\">*</span><span class=\"pln\"> FROM SNOWFLAKE_SAMPLE_DATA</span><span class=\"pun\">.</span><span class=\"pln\">TPCH_SF1000</span><span class=\"pun\">.</span><span class=\"pln\">CUSTOMER</span><span class=\"pun\">;</span></li></ol></pre></div></div><p><br></p></li><li><p>Let us find out what is the count of rows in this table. You should see around 15M rows in this table.</p><div class=\"ud-component--base-components--code-block\"><div><pre class=\"prettyprint linenums prettyprinted\" role=\"presentation\" style=\"\"><ol class=\"linenums\"><li class=\"L0\"><span class=\"pln\">SELECT COUNT</span><span class=\"pun\">(*)</span><span class=\"pln\"> FROM CUSTOMER</span><span class=\"pun\">;</span></li></ol></pre></div></div><p><br></p></li><li><p>Now we clone the CUSTOMER table to another table called CUSTOMER_COPY. We will use the CLONE keyword in the CREATE TABLE statement to create a table as a clone of another table. The following CLONE statement should execute much faster than our step 2 since cloning is a metadata-only operation. On test execution, this step took less than one second.</p><div class=\"ud-component--base-components--code-block\"><div><pre class=\"prettyprint linenums prettyprinted\" role=\"presentation\" style=\"\"><ol class=\"linenums\"><li class=\"L0\"><span class=\"pln\">CREATE TABLE CUSTOMER_COPY CLONE CUSTOMER</span><span class=\"pun\">;</span></li></ol></pre></div></div><p><br></p></li><li><p>Let us find out the count of rows in the cloned table. You should see around 15M rows in the cloned table, indicating that the two tables have the same data.</p><div class=\"ud-component--base-components--code-block\"><div><pre class=\"prettyprint linenums prettyprinted\" role=\"presentation\" style=\"\"><ol class=\"linenums\"><li class=\"L0\"><span class=\"pln\">SELECT COUNT</span><span class=\"pun\">(*)</span><span class=\"pln\"> FROM CUSTOMER_COPY</span><span class=\"pun\">;</span></li></ol></pre></div></div><p><br></p></li><li><p>We will demonstrate that although the CUSTOMER_COPY table has been cloned from the CUSTOMER table. The two can be updated independently, contain different data, and not impact each other when updates are performed. To demonstrate this, we update the C_MKTSEGMENT column in the cloned CUSTOMER_COPY table as shown in the following SQL. (This step will take some time to complete).</p><div class=\"ud-component--base-components--code-block\"><div><pre class=\"prettyprint linenums prettyprinted\" role=\"presentation\" style=\"\"><ol class=\"linenums\"><li class=\"L0\"><span class=\"pln\">UPDATE CUSTOMER_COPY SET C_MKTSEGMENT </span><span class=\"pun\">=</span><span class=\"pln\"> </span><span class=\"str\">'AUTO'</span><span class=\"pln\"> WHERE C_MKTSEGMENT </span><span class=\"pun\">=</span><span class=\"pln\"> </span><span class=\"str\">'AUTOMOBILE'</span><span class=\"pun\">;</span></li></ol></pre></div></div><p><br></p></li><li><p>Let us now check what distinct marketing segments exist in both tables by running the following SQLs.</p><div class=\"ud-component--base-components--code-block\"><div><pre class=\"prettyprint linenums prettyprinted\" role=\"presentation\" style=\"\"><ol class=\"linenums\"><li class=\"L0\"><span class=\"pln\">SELECT DISTINCT C_MKTSEGMENT FROM CUSTOMER</span><span class=\"pun\">;</span></li><li class=\"L1\"><span class=\"pln\">SELECT DISTINCT C_MKTSEGMENT FROM CUSTOMER_COPY</span><span class=\"pun\">;</span></li></ol></pre></div></div><p><br></p></li><li><p>You will see that the C_MKTSEGMENT columns are almost identical in both tables; however, one table has the AUTOMOBILE segment, and the other has the AUTO segment (since we had performed that update). This demonstrates that a cloned table can be changed independently of the source table and vice versa.</p></li></ol></div><div class=\"practice--question-list--1HR9g practice--mt-md--3j-aS\" data-purpose=\"question-list\"><h4 class=\"ud-heading-md practice--mb-xs--Lpg-b\">Questions for this assignment</h4><div><div class=\"question--question--152Yi\"><div class=\"ud-text-bold question--title--2FD-U\"><div data-purpose=\"safely-set-inner-html:rich-text-viewer:html\" class=\"question--title-text--2kBEO rt-scaffolding\"><p>After a table has been cloned from a source table, can updates be made to the two table independently?</p></div></div><div class=\"question--answer--2ASXa\"></div></div><div class=\"question--question--152Yi\"><div class=\"ud-text-bold question--title--2FD-U\"><div data-purpose=\"safely-set-inner-html:rich-text-viewer:html\" class=\"question--title-text--2kBEO rt-scaffolding\"><p>After a table has been cloned from a source table and no data is changed in either table, do the tables share all micro-partitions?</p></div></div><div class=\"question--answer--2ASXa\"></div></div></div></div></div>"
   ]
  },
  {
   "cell_type": "markdown",
   "id": "afe446e5",
   "metadata": {},
   "source": [
    "<p>\n",
    "<b>Q1 Ans</b>\n",
    "<p>Yes. The source and cloned items are independent; thus, modifying data in one will not affect the other.<br>\n",
    "Additional storage space may be necessary as new data is stored or modified in either table.\n",
    "</p>\n",
    "</p>\n",
    "\n",
    "<p>\n",
    "<b>Q2 Ans</b>\n",
    "<p>\n",
    "Yes. The source table and cloned table will point to the same micro-partitions.<br> \n",
    "When tables, schemas, or databases are cloned, <br>\n",
    "the cloned item does not contribute to the overall storage until data manipulation language (DML) activities,<br>\n",
    "such as adding new data or modifying existing data, are performed on the source or target.\n",
    "</p>\n",
    "</p>"
   ]
  },
  {
   "cell_type": "code",
   "execution_count": null,
   "id": "f1d1a9f7",
   "metadata": {},
   "outputs": [],
   "source": []
  }
 ],
 "metadata": {
  "kernelspec": {
   "display_name": "Python 3 (ipykernel)",
   "language": "python",
   "name": "python3"
  },
  "language_info": {
   "codemirror_mode": {
    "name": "ipython",
    "version": 3
   },
   "file_extension": ".py",
   "mimetype": "text/x-python",
   "name": "python",
   "nbconvert_exporter": "python",
   "pygments_lexer": "ipython3",
   "version": "3.10.6"
  }
 },
 "nbformat": 4,
 "nbformat_minor": 5
}
