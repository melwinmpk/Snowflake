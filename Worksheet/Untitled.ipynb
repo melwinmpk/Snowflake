{
 "cells": [
  {
   "cell_type": "code",
   "execution_count": 7,
   "id": "ec21e098",
   "metadata": {},
   "outputs": [],
   "source": [
    "import snowflake.connector\n",
    "import json\n",
    "import pandas as pd\n",
    "\n",
    "class snowflake_helper:\n",
    "    def __init__(self, data):\n",
    "        self.create_connection(data)\n",
    "\n",
    "    def create_connection(self, data):\n",
    "    # To understna myconnection.toml file\n",
    "    # refer https://docs.snowflake.com/en/developer-guide/python-connector/python-connector-connect#connecting-using-the-connections-toml-file\n",
    "        self.conn = snowflake.connector.connect(\n",
    "                                                user='XXXXXXXXXX',\n",
    "                                                password='XXXXXXX',\n",
    "                                                account='rftahuh-wob23599',\n",
    "                                                database = data.get('database_name','amazonebooks'),\n",
    "                                                warehouse = data.get('warehouse','COMPUTE_WH'),\n",
    "                                                schema = data.get('schema','PUBLIC')\n",
    "                                                )\n",
    "        self.curr = self.conn.cursor()\n",
    "\n",
    "    def query_exec(self,query):\n",
    "        self.curr.execute(query)\n",
    "\n",
    "    def query_exec_getresult(self,query):\n",
    "        result_df = pd.read_sql(query, self.conn) # reading in Pandas Data frame\n",
    "        return result_df\n",
    "\n",
    "    def connection_close(self):\n",
    "        self.conn.close()\n",
    "\n",
    "    def __del__(self):\n",
    "        self.conn.close()"
   ]
  },
  {
   "cell_type": "code",
   "execution_count": 23,
   "id": "7bffd617",
   "metadata": {},
   "outputs": [],
   "source": [
    "data = {\n",
    "    \"database_name\":\"DEV_DB\",\n",
    "    \"table_name\":\"amazone_books\",\n",
    "    \"data_location_dict\":\"\",\n",
    "    \"stage_table\":\"amazone_books_stage\"\n",
    "}\n",
    "\n",
    "database_name = data.get(\"database_name\",\"\")\n",
    "warehouse = data.get(\"warehouse\",\"COMPUTE_WH\")\n",
    "schema = data.get(\"schema\",\"PUBLIC\")\n",
    "table_name = data.get(\"table_name\", None)\n",
    "data_location_dict = data.get(\"data_location_dict\", None)\n",
    "stage_table = data.get(\"stage_table\",f'{table_name}_stage' )\n",
    "\n",
    "snowflake_db = snowflake_helper({'database_name' : database_name,'warehouse' : warehouse,'schema': schema})\n",
    "path = f'file://Data/20240227-amazone-books.csv'\n",
    "\n",
    "query=f'''PUT '{path}' @{stage_table};'''\n",
    "snowflake_db.query_exec(query)\n",
    "\n",
    "snowflake_db.connection_close()"
   ]
  },
  {
   "cell_type": "code",
   "execution_count": null,
   "id": "1b9eab56",
   "metadata": {
    "scrolled": true
   },
   "outputs": [],
   "source": [
    "df = pd.read_csv(\"D:/Learning/Snowflake/DataData/20240227-amazone-books.csv\")"
   ]
  },
  {
   "cell_type": "code",
   "execution_count": null,
   "id": "6cbf4578",
   "metadata": {},
   "outputs": [],
   "source": []
  }
 ],
 "metadata": {
  "kernelspec": {
   "display_name": "Python 3 (ipykernel)",
   "language": "python",
   "name": "python3"
  },
  "language_info": {
   "codemirror_mode": {
    "name": "ipython",
    "version": 3
   },
   "file_extension": ".py",
   "mimetype": "text/x-python",
   "name": "python",
   "nbconvert_exporter": "python",
   "pygments_lexer": "ipython3",
   "version": "3.10.6"
  }
 },
 "nbformat": 4,
 "nbformat_minor": 5
}
