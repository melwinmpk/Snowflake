{
 "cells": [
  {
   "cell_type": "markdown",
   "id": "d2382f9c",
   "metadata": {},
   "source": [
    "<h3>Cloning in Snowflake</h3>\n",
    "<ul>\n",
    "    <li>Zero Copy Cloning</li>\n",
    "    <ul>\n",
    "        <li>Metadata Operation</li>\n",
    "        <li>Perform by Cloud Services Layer using micro-partition metadata</li>\n",
    "        <li>No Physical data movement</li>\n",
    "        <li>No extra storage requirement</li>\n",
    "        <li>Generally a very fast operaton</li>\n",
    "    </ul>    \n",
    "    <li>Clone command</li>\n",
    "    <ul>\n",
    "        <li>Supported Objects</li>\n",
    "        <ul>\n",
    "            <li>Databases, Schemas & Tables</li>\n",
    "            <li>Streams</li>\n",
    "            <li>Stages, File Format, Sequences, Tasks</li>\n",
    "        </ul>    \n",
    "    </ul>    \n",
    "</ul> \n",
    "\n",
    "\n",
    "<b>Micro-partitions & metadata are Key to Zero Copy Cloning</b>"
   ]
  },
  {
   "cell_type": "markdown",
   "id": "7d2216a2",
   "metadata": {},
   "source": [
    "<h3>Cloning Caveats</h3>\n",
    "<ul>\n",
    "    <li>Cloning is Fast</li>\n",
    "    <ul>\n",
    "        <li>But may take some time for very large tables</li>\n",
    "    </ul>\n",
    "    <li>Storage</li>\n",
    "    <ul>\n",
    "        <li>Cloned object doesn't contribute to storage unless data is changed in source or cloned table</li>\n",
    "    </ul>\n",
    "    <li>Clone whole database or whole schema</li>\n",
    "    <ul>\n",
    "        <li>All children are cloned</li>\n",
    "    </ul>\n",
    "    <li>Access Rights</li>\n",
    "    <ul>\n",
    "        <li>Cloned object dont inherit permission</li>\n",
    "        <li>Child objects (in case of database/schema clone) inherit permissions</li>\n",
    "    </ul>\n",
    "    <li>Cant be cloned</li>\n",
    "    <ul>\n",
    "        <li>External tables</li>\n",
    "        <li>Named internal stages</li>\n",
    "    </ul>\n",
    "</ul>"
   ]
  },
  {
   "cell_type": "markdown",
   "id": "f8434efd",
   "metadata": {},
   "source": [
    "<b>refer Assignment 10 , 11 & 12</b>"
   ]
  },
  {
   "cell_type": "markdown",
   "id": "5e0db815",
   "metadata": {},
   "source": [
    "<p>Which of the following layer facilitates the cloning of tables?</p>\n",
    "<ul>\n",
    "<li>Query Processing Layer</li>\n",
    "<li><b>Cloud Services Layer</b></li>\n",
    "<li>Cloning Management Layer</li>\n",
    "<li>Sharing Management Layer</li>\n",
    "</ul>"
   ]
  },
  {
   "cell_type": "markdown",
   "id": "39d24aba",
   "metadata": {},
   "source": [
    "<p>Which of the following correctly describes the behaviour when a Transient table is attempted to be cloned?</p>\n",
    "<ul>\n",
    "<li>Transient tables can be cloned to external tables.</li>\n",
    "<li>Transient tables can be cloned to permanent tables</li>\n",
    "<li><b>Transient tables can be cloned to transient tables.</b></li>\n",
    "<li><b>Transient tables can be cloned to temporary tables.</b></li>\n",
    "</ul>\n",
    "\n",
    "<p>Which of the following correctly describes the behaviour when a Temporary table is attempted to be cloned?</p>\n",
    "<ul>\n",
    "<li><b>Temporary tables can be cloned to temporary tables.</b></li>\n",
    "<li>Temporary tables can be cloned to external tables.</li>\n",
    "<li><b>Temporary tables can be cloned to transient tables.</b></li>\n",
    "<li>Temporary tables can be cloned to permanent tables.</li>\n",
    "</ul>\n",
    "\n",
    "<p>Which of the following objects can be cloned? Select all that apply.</p>\n",
    "<ul>\n",
    "<li><b>Sequence</b></li>\n",
    "<li>Virtual Warehouse</li>\n",
    "<li><b>\n",
    "File Format</b></li>\n",
    "<li>Share</li>\n",
    "<li><b>Stage</b></li>\n",
    "<li>Task</li>\n",
    "</ul>"
   ]
  },
  {
   "cell_type": "code",
   "execution_count": null,
   "id": "c6714cca",
   "metadata": {},
   "outputs": [],
   "source": []
  }
 ],
 "metadata": {
  "kernelspec": {
   "display_name": "Python 3 (ipykernel)",
   "language": "python",
   "name": "python3"
  },
  "language_info": {
   "codemirror_mode": {
    "name": "ipython",
    "version": 3
   },
   "file_extension": ".py",
   "mimetype": "text/x-python",
   "name": "python",
   "nbconvert_exporter": "python",
   "pygments_lexer": "ipython3",
   "version": "3.10.6"
  }
 },
 "nbformat": 4,
 "nbformat_minor": 5
}
