{
 "cells": [
  {
   "cell_type": "markdown",
   "id": "d2382f9c",
   "metadata": {},
   "source": [
    "<h3>Cloning in Snowflake</h3>\n",
    "<ul>\n",
    "    <li>Zero Copy Cloning</li>\n",
    "    <ul>\n",
    "        <li>Metadata Operation</li>\n",
    "        <li>Perform by Cloud Services Layer using micro-partition metadata</li>\n",
    "        <li>No Physical data movement</li>\n",
    "        <li>No extra storage requirement</li>\n",
    "        <li>Generally a very fast operaton</li>\n",
    "    </ul>    \n",
    "    <li>Clone command</li>\n",
    "    <ul>\n",
    "        <li>Supported Objects</li>\n",
    "        <ul>\n",
    "            <li>Databases, Schemas & Tables</li>\n",
    "            <li>Streams</li>\n",
    "            <li>Stages, File Format, Sequences, Tasks</li>\n",
    "        </ul>    \n",
    "    </ul>    \n",
    "</ul> \n",
    "\n",
    "\n",
    "<b>Micro-partitions & metadata are Key to Zero Copy Cloning</b>"
   ]
  },
  {
   "cell_type": "markdown",
   "id": "f8434efd",
   "metadata": {},
   "source": [
    "<b>refer Assignment 10 , 11 & 12</b>"
   ]
  },
  {
   "cell_type": "markdown",
   "id": "5e0db815",
   "metadata": {},
   "source": [
    "<p>Which of the following layer facilitates the cloning of tables?</p>\n",
    "<ul>\n",
    "<li>Query Processing Layer</li>\n",
    "<li><b>Cloud Services Layer</b></li>\n",
    "<li>Cloning Management Layer</li>\n",
    "<li>Sharing Management Layer</li>\n",
    "</ul>"
   ]
  },
  {
   "cell_type": "code",
   "execution_count": null,
   "id": "dc0ef199",
   "metadata": {},
   "outputs": [],
   "source": []
  }
 ],
 "metadata": {
  "kernelspec": {
   "display_name": "Python 3 (ipykernel)",
   "language": "python",
   "name": "python3"
  },
  "language_info": {
   "codemirror_mode": {
    "name": "ipython",
    "version": 3
   },
   "file_extension": ".py",
   "mimetype": "text/x-python",
   "name": "python",
   "nbconvert_exporter": "python",
   "pygments_lexer": "ipython3",
   "version": "3.10.6"
  }
 },
 "nbformat": 4,
 "nbformat_minor": 5
}
