{
 "cells": [
  {
   "cell_type": "markdown",
   "id": "edacbe56",
   "metadata": {},
   "source": [
    "<div class=\"practice--panel--ejs8J\"><div data-purpose=\"practice-component-text\" class=\"rt-scaffolding\"><h4>Lab Objective: Load data into a table using named internal stage</h4><p>This lab guides you through the process of loading data into a Snowflake table using a named internal stage. We will use SnowSQL to transfer data into the named internal stage.</p><p><br></p><ol><li><p>Create a new database in your Snowflake instance by the name of dev_lnd. We have used the dev_lnd naming convention to represent the landing database in the development environment. We will use this database for loading data.</p><div class=\"ud-component--base-components--code-block\"><div><pre class=\"prettyprint linenums prettyprinted\" role=\"presentation\" style=\"\"><ol class=\"linenums\"><li class=\"L0\"><span class=\"pln\">CREATE DATABASE dev_lnd</span><span class=\"pun\">;</span></li></ol></pre></div></div></li><li><p>In the dev_lnd database, create a new table by the name of LU_Airport. The LU_Airport table should have the following columns.</p><p>Airline_ID NUMBER</p><p>Airline_Description STRING</p><p><br></p><div class=\"ud-component--base-components--code-block\"><div><pre class=\"prettyprint linenums prettyprinted\" role=\"presentation\" style=\"\"><ol class=\"linenums\"><li class=\"L0\"><span class=\"pln\">USE DATABASE dev_lnd</span><span class=\"pun\">;</span></li><li class=\"L1\"><span class=\"pln\">USE SCHEMA </span><span class=\"kwd\">public</span><span class=\"pun\">;</span></li><li class=\"L2\"><span class=\"pln\">&nbsp;</span></li><li class=\"L3\"><span class=\"pln\">CREATE TABLE LU_Airport</span></li><li class=\"L4\"><span class=\"pun\">(</span></li><li class=\"L5\"><span class=\"typ\">Airline_ID</span><span class=\"pln\"> </span><span class=\"typ\">Number</span><span class=\"pun\">,</span></li><li class=\"L6\"><span class=\"typ\">Airline_Description</span><span class=\"pln\"> </span><span class=\"typ\">String</span></li><li class=\"L7\"><span class=\"pun\">);</span><span class=\"pln\"> </span></li></ol></pre></div></div><p><br></p></li><li><p>Download the data for the LU_Airport table from <a target=\"_blank\" rel=\"noopener noreferrer\" href=\"https://ca-flight-data-for-download.s3.amazonaws.com/L_AIRPORT_ID.csv\">https://ca-flight-data-for-download.s3.amazonaws.com/L_AIRPORT_ID.csv</a>. Download the file, store it in a folder and familiarize yourself with the structure. The file is a CSV file with two columns, where values are comma-separated and are enclosed in double-quotes.</p><p><br></p></li><li><p>We will now create a named internal stage object, which we will use to load data into the LU_Airport table.</p><div class=\"ud-component--base-components--code-block\"><div><pre class=\"prettyprint linenums prettyprinted\" role=\"presentation\" style=\"\"><ol class=\"linenums\"><li class=\"L0\"><span class=\"pln\">CREATE OR REPLACE STAGE LU_Airport_CSV_Stage</span></li><li class=\"L1\"><span class=\"pln\">  FILE_FORMAT </span><span class=\"pun\">=</span><span class=\"pln\"> </span><span class=\"pun\">(</span><span class=\"pln\">TYPE </span><span class=\"pun\">=</span><span class=\"pln\"> csv FIELD_DELIMITER </span><span class=\"pun\">=</span><span class=\"pln\"> </span><span class=\"str\">','</span><span class=\"pln\"> FIELD_OPTIONALLY_ENCLOSED_BY </span><span class=\"pun\">=</span><span class=\"pln\"> </span><span class=\"str\">'\"'</span><span class=\"pln\"> SKIP_HEADER </span><span class=\"pun\">=</span><span class=\"pln\"> </span><span class=\"lit\">1</span><span class=\"pun\">);</span></li></ol></pre></div></div><p><br></p></li><li><p>This next step must be run through SnowSQL. We will be uploading a file from our laptop/computer to the named internal stage we created in the previous step. The step must be run through SnowSQL as it will be run from your PC and will have access to the local file and your Snowflake instance.</p><div class=\"ud-component--base-components--code-block\"><div><pre class=\"prettyprint linenums prettyprinted\" role=\"presentation\" style=\"\"><ol class=\"linenums\"><li class=\"L0\"><span class=\"pln\">USE DATABASE dev_lnd</span><span class=\"pun\">;</span></li><li class=\"L1\"><span class=\"pln\">PUT </span><span class=\"str\">'file:///&lt;PATH&gt;/L_AIRPORT_ID.csv'</span><span class=\"pln\"> </span><span class=\"lit\">@LU_Airport_CSV_Stage</span><span class=\"pun\">;</span></li></ol></pre></div></div><p><br></p></li><li><p>Please remember that the previous step’s &lt;PATH&gt; placeholder needs to be updated with the path to the L_AIRPORT_ID.csv file you just uploaded. Also, remember to use forwards slashes instead of backslashes when creating the route. It follows then that if you’re operating on a PC running Windows, and the file is located in the C:\\Users\\smith\\ L_AIRPORT_ID.csv, then you’ll need to specify the C:/Users/smith/ L_AIRPORT_ID.csv in the PUT statement.</p><p><br></p></li><li><p>List the data in stage to ensure that the file was uploaded successfully.&nbsp; You should see a single L_AIRPORT_ID.csv.gz file. Notice how Snowflake automatically compresses files as it uploads into an internal stage.</p><div class=\"ud-component--base-components--code-block\"><div><pre class=\"prettyprint linenums prettyprinted\" role=\"presentation\" style=\"\"><ol class=\"linenums\"><li class=\"L0\"><span class=\"pln\">LIST </span><span class=\"lit\">@LU_Airport_CSV_Stage</span><span class=\"pun\">;</span></li></ol></pre></div></div><p><br></p></li><li><p>Let us now load the data into the LU_Airport table from the named internal stage. We will use the COPY command to load the data from the named internal stage. Notice we do not specify a file format as we have already described a file format while creating the stage object. </p><div class=\"ud-component--base-components--code-block\"><div><pre class=\"prettyprint linenums prettyprinted\" role=\"presentation\" style=\"\"><ol class=\"linenums\"><li class=\"L0\"><span class=\"pln\">USE DATABASE dev_lnd</span><span class=\"pun\">;</span></li><li class=\"L1\"><span class=\"pln\">COPY INTO LU_Airport</span></li><li class=\"L2\"><span class=\"pln\">  FROM </span><span class=\"lit\">@LU_Airport_CSV_Stage</span><span class=\"pun\">;</span></li></ol></pre></div></div><p><br></p></li><li><p>The previous command loads 6597 rows. Select the loaded rows to validate that data loaded successfully</p><div class=\"ud-component--base-components--code-block\"><div><pre class=\"prettyprint linenums prettyprinted\" role=\"presentation\" style=\"\"><ol class=\"linenums\"><li class=\"L0\"><span class=\"pln\">SELECT </span><span class=\"pun\">*</span><span class=\"pln\"> FROM LU_Airport</span><span class=\"pun\">;</span></li></ol></pre></div></div><p><br></p></li><li><p>It is good to clear the data in a named internal stage after it has been loaded. This ensures that you don’t get hit with unnecessary costs.</p><div class=\"ud-component--base-components--code-block\"><div><pre class=\"prettyprint linenums prettyprinted\" role=\"presentation\" style=\"\"><ol class=\"linenums\"><li class=\"L0\"><span class=\"pln\">REMOVE </span><span class=\"lit\">@LU_Airport_CSV_Stage</span><span class=\"pun\">;</span></li></ol></pre></div></div></li></ol></div><div class=\"practice--question-list--1HR9g practice--mt-md--3j-aS\" data-purpose=\"question-list\"><h4 class=\"ud-heading-md practice--mb-xs--Lpg-b\">Questions for this assignment</h4><div><div class=\"question--question--152Yi\"><div class=\"ud-text-bold question--title--2FD-U\"><div data-purpose=\"safely-set-inner-html:rich-text-viewer:html\" class=\"question--title-text--2kBEO rt-scaffolding\"><p>Is the data in a Snowflake internal stage stored in an encrypted format?</p></div></div><div class=\"question--answer--2ASXa\"></div></div><div class=\"question--question--152Yi\"><div class=\"ud-text-bold question--title--2FD-U\"><div data-purpose=\"safely-set-inner-html:rich-text-viewer:html\" class=\"question--title-text--2kBEO rt-scaffolding\"><p>Is the data encrypted prior to being transferred to a Snowflake internal stage?</p></div></div><div class=\"question--answer--2ASXa\"></div></div></div></div></div>"
   ]
  },
  {
   "cell_type": "markdown",
   "id": "636b69fe",
   "metadata": {},
   "source": [
    "<b>Is the data encrypted prior to being transferred to a Snowflake internal stage?</b><br>\n",
    "Yes. The Data is encrypted prior before being transferred to a Snowflake Internal stage <br>\n",
    "<b>Is the data in a Snowflake internal stage stored in an encrypted format?</b><br>\n",
    "Yes. By default the data that is stored in Internal stage is encrypted. (in Gzip format)"
   ]
  },
  {
   "cell_type": "code",
   "execution_count": null,
   "id": "12e1c3b6",
   "metadata": {},
   "outputs": [],
   "source": []
  }
 ],
 "metadata": {
  "kernelspec": {
   "display_name": "Python 3 (ipykernel)",
   "language": "python",
   "name": "python3"
  },
  "language_info": {
   "codemirror_mode": {
    "name": "ipython",
    "version": 3
   },
   "file_extension": ".py",
   "mimetype": "text/x-python",
   "name": "python",
   "nbconvert_exporter": "python",
   "pygments_lexer": "ipython3",
   "version": "3.10.6"
  }
 },
 "nbformat": 4,
 "nbformat_minor": 5
}
