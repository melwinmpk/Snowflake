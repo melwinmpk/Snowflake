{
 "cells": [
  {
   "cell_type": "markdown",
   "id": "b6ec9cd0",
   "metadata": {},
   "source": [
    "<h3>Secure Data Sharing</h3>\n",
    "<ul>\n",
    "    <li>Metadata Operation</li>\n",
    "    <li>Perform by Cloud Services Layer using micro-partition metadata</li>\n",
    "    <li>No Physical data movement</li>\n",
    "    <li>Generally a very fast operation</li>\n",
    "    <li>Provider can stop sharing anytime</li>\n",
    "    <li>No additional storage requirements</li>\n",
    "</ul>\n",
    "\n",
    "<h3>Key Terms</h3>\n",
    "<ul>\n",
    "    <li>Data Provider</li>\n",
    "    <li>Share</li>\n",
    "    <li>Data Consumer</li>\n",
    "</ul>    "
   ]
  },
  {
   "cell_type": "markdown",
   "id": "7cda1b6a",
   "metadata": {},
   "source": [
    "<h3>Snowflake Produt offers</h3>\n",
    "<ul>\n",
    "    <li>Direct Share</li>\n",
    "    <ul>\n",
    "        <li> 1-to-1 <br> Account to Account sharing of data through Snowflake's Secure Data Sharing</li>\n",
    "    </ul>    \n",
    "    <li>Snowflake Marketplace</li>\n",
    "    <ul>\n",
    "        <li> Access to 3rd-Party Data <br>\n",
    "             Data from third-party providers avaliable to use\n",
    "        </li>\n",
    "    </ul>    \n",
    "    <li>Data Exchange</li>\n",
    "    <ul>\n",
    "        <li> Your Own Data Hub <br>\n",
    "            You decided who can join, publish and who can consume data\n",
    "        </li>\n",
    "    </ul>    \n",
    "</ul>"
   ]
  },
  {
   "cell_type": "markdown",
   "id": "dff0e3a6",
   "metadata": {},
   "source": [
    "<h4>Direct Sharing</h4>\n",
    "\n",
    "<ul>\n",
    "    <li>Simplest form of data sharing</li>\n",
    "    <li>A single data provider can share data directly with one or more account</li>\n",
    "    <li>Shares are setup by the provider account and they must specify which consumers can access this data</li>\n",
    "    <li>It is possible to share with other Snowflake accounts as well as non-Snowflake customers</li>\n",
    "</ul>\n",
    "\n",
    "\n",
    "<p>\n",
    "So in secure data sharing, the data sharing process starts with the provider account, creating a share object.<br>\n",
    "So one way to think about a share object is as a container that stores all of the information that is\n",
    "necessary to enable sharing.<br>\n",
    "So each object contains information on objects that are being shared, such as tables, and the addition\n",
    "of a table to a share is accomplished by granting the share object.<br>\n",
    "Select access to the table.    <br>\n",
    "The shared object also contains information on the schema and database containing the shared item.<br>\n",
    "The shared object must be granted usage access to the schema in database.<br>\n",
    "Finally, the shared object contains information about one or more snowflake accounts with whom the\n",
    "data is shared.<br>\n",
    "These accounts are also referred to as consumers.\n",
    "So after consumers account number is associated with a share, the share will begin to appear in the\n",
    "consumer's account.<br>\n",
    "The consumer can then create a read only database on the share object and is then able to view all of\n",
    "the shared object within that read only database.<br>\n",
    "Now it is important to note that the consumer account does not pay for the storage cost for the shared\n",
    "data.<br>\n",
    "However, any queries run by the consumer account on the shared data result in the usage of consumers\n",
    "compute.<br> \n",
    "Finally, any snowflake account has the potential to become a data provider, allowing it to share a single item or several objects with other snowflake accounts.<br>\n",
    "<b>virtual private snowflake accounts or accounts are an exception to this, so they cannot share data.</b>    \n",
    "</p>    "
   ]
  },
  {
   "cell_type": "markdown",
   "id": "994dda61",
   "metadata": {},
   "source": [
    "<h4>Data Provider</h4>\n",
    "<ol>\n",
    "    <li><b>Creat share</b>: Create a Share Object</li>\n",
    "    <li><b>Add Object</b>: Add tables.objects to the share add schema & database</li>\n",
    "    <li><b>Add Consumers</b>: Add one oe more consumer accounts</li>\n",
    "</ol>\n",
    "<h4>Data Consumer</h4>\n",
    "<ol>\n",
    "    <li><b>Read-only Data base</b>: Create a database from the share</li>\n",
    "    <li><b>Access Control</b>: Configure security for new database</li>\n",
    "    <li><b>Query shared data</b>: Using own compute</li>\n",
    "</ol>"
   ]
  },
  {
   "cell_type": "markdown",
   "id": "9dcbcc27",
   "metadata": {},
   "source": [
    "<b>Refer Assignment 13 & 14</b>"
   ]
  },
  {
   "cell_type": "code",
   "execution_count": null,
   "id": "9010a3e3",
   "metadata": {},
   "outputs": [],
   "source": []
  }
 ],
 "metadata": {
  "kernelspec": {
   "display_name": "Python 3 (ipykernel)",
   "language": "python",
   "name": "python3"
  },
  "language_info": {
   "codemirror_mode": {
    "name": "ipython",
    "version": 3
   },
   "file_extension": ".py",
   "mimetype": "text/x-python",
   "name": "python",
   "nbconvert_exporter": "python",
   "pygments_lexer": "ipython3",
   "version": "3.10.6"
  }
 },
 "nbformat": 4,
 "nbformat_minor": 5
}
