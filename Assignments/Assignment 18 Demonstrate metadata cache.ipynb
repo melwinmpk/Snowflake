{
 "cells": [
  {
   "cell_type": "markdown",
   "id": "3a5988f9",
   "metadata": {},
   "source": [
    "<div class=\"practice--panel--ejs8J\"><div data-purpose=\"practice-component-text\" class=\"rt-scaffolding\"><h4>Lab Objective: Demonstrate metadata cache</h4><p>This lab will walk you through a demonstration of how certain queries can be answered from the metadata cache.</p><p><br></p><p>1. Let us start by logging into the Snowflake Web UI. In the worksheet view, we run an SQL script that counts the number of rows in a table.</p><div class=\"ud-component--base-components--code-block\"><div><pre class=\"prettyprint linenums prettyprinted\" role=\"presentation\" style=\"\"><ol class=\"linenums\"><li class=\"L0\"><span class=\"pln\">USE SCHEMA SNOWFLAKE_SAMPLE_DATA</span><span class=\"pun\">.</span><span class=\"pln\">TPCDS_SF10TCL</span><span class=\"pun\">;</span></li><li class=\"L1\"><span class=\"pln\">SELECT COUNT</span><span class=\"pun\">(*)</span><span class=\"pln\"> FROM store_sales</span><span class=\"pun\">;</span></li></ol></pre></div></div><p><br></p><p>2. After the query is complete (which should be relatively quick), note down the time taken by the query and review the query plan for the query. The query profile will show a single node with the message \"METADATA-BASED RESULT,\" indicating that the result was returned from metadata. The time taken by the query will be merely a few seconds or even less.</p><figure><img width=\"307\" src=\"https://github.com/melwinmpk/Snowflake/assets/25386607/0b93ce62-817d-408d-9a5c-3713e452d14e\" height=\"106\"></figure><p><br></p><p>3. Let's run a slightly different query.</p><div class=\"ud-component--base-components--code-block\"><div><pre class=\"prettyprint linenums prettyprinted\" role=\"presentation\" style=\"\"><ol class=\"linenums\"><li class=\"L0\"><span class=\"pln\">USE SCHEMA SNOWFLAKE_SAMPLE_DATA</span><span class=\"pun\">.</span><span class=\"pln\">TPCDS_SF10TCL</span><span class=\"pun\">;</span></li><li class=\"L1\"><span class=\"pln\">SELECT MAX</span><span class=\"pun\">(</span><span class=\"pln\">SS_QUANTITY</span><span class=\"pun\">)</span><span class=\"pln\"> FROM store_sales</span><span class=\"pun\">;</span></li></ol></pre></div></div><p><br></p><p>4. Again, the query profile will show a single node with the message \"METADATA-BASED RESULT,\" indicating that the result was returned from metadata. </p><figure><img width=\"297\" src=\"https://github.com/melwinmpk/Snowflake/assets/25386607/c1eb1ba9-8fcc-49cf-b64b-2e8111e36c3d\" height=\"102\"></figure><p><br></p><p>5. To establish that a virtual warehouse is not used for metadata-based queries, suspend all virtual warehouses and run the following query.</p><div class=\"ud-component--base-components--code-block\"><div><pre class=\"prettyprint linenums prettyprinted\" role=\"presentation\" style=\"\"><ol class=\"linenums\"><li class=\"L0\"><span class=\"pln\">USE SCHEMA SNOWFLAKE_SAMPLE_DATA</span><span class=\"pun\">.</span><span class=\"pln\">TPCDS_SF10TCL</span><span class=\"pun\">;</span></li><li class=\"L1\"><span class=\"pln\">SELECT MIN</span><span class=\"pun\">(</span><span class=\"pln\">SS_QUANTITY</span><span class=\"pun\">)</span><span class=\"pln\"> FROM store_sales</span><span class=\"pun\">;</span></li></ol></pre></div></div><p><br></p><p>6. Once the query is complete, validate that the virtual warehouses have remained suspended and that the result was returned through metadata without requiring SQL to be executed by virtual warehouses.</p><p><br></p><p>7. Let us now demonstrate that when MAX or MIN is used on character columns, the metadata cache cannot fulfill the information.</p><div class=\"ud-component--base-components--code-block\"><div><pre class=\"prettyprint linenums prettyprinted\" role=\"presentation\" style=\"\"><ol class=\"linenums\"><li class=\"L0\"><span class=\"pln\">USE SCHEMA SNOWFLAKE_SAMPLE_DATA</span><span class=\"pun\">.</span><span class=\"pln\">TPCDS_SF10TCL</span><span class=\"pun\">;</span></li><li class=\"L1\"><span class=\"pln\">SELECT MAX</span><span class=\"pun\">(</span><span class=\"pln\">I_COLOR</span><span class=\"pun\">)</span><span class=\"pln\"> FROM item</span><span class=\"pun\">;</span></li></ol></pre></div></div><figure><img width=\"205\" src=\"https://github.com/melwinmpk/Snowflake/assets/25386607/64edff04-bfb0-4f17-b2ae-b277871a76d4\" height=\"296\"></figure><p><br></p><p>8. The query profile does not show \"METADATA-BASED RESULT\"; instead, multiple steps indicate that the metadata cache was not used. Additionally, note that you would have required an active virtual warehouse to run this query.</p></div><div class=\"practice--question-list--1HR9g practice--mt-md--3j-aS\" data-purpose=\"question-list\"><h4 class=\"ud-heading-md practice--mb-xs--Lpg-b\">Questions for this assignment</h4><div><div class=\"question--question--152Yi\"><div class=\"ud-text-bold question--title--2FD-U\"><div data-purpose=\"safely-set-inner-html:rich-text-viewer:html\" class=\"question--title-text--2kBEO rt-scaffolding\"><p>How is a COUNT(*) query answered by Snowflake using the metadata cache?</p></div></div><div class=\"question--answer--2ASXa\"></div></div></div></div></div>"
   ]
  },
  {
   "cell_type": "markdown",
   "id": "5aad7c75",
   "metadata": {},
   "source": [
    "<div class=\"question--question--152Yi\"><div class=\"ud-text-bold question--title--2FD-U\"><div data-purpose=\"safely-set-inner-html:rich-text-viewer:html\" class=\"question--title-text--2kBEO rt-scaffolding\"><p>How is a COUNT(*) query answered by Snowflake using the metadata cache?</p></div></div><div class=\"question--answer--2ASXa\"><div data-purpose=\"safely-set-inner-html:submission:user-answer-body\"><p>Snowflake maintains metadata for each table, which includes statistics for each micro-partition. The statistics include information such as the number of rows for each micro-partition. Thus, Snowflake can answer a simple COUNT query using the metadata by summing up the number of rows for each micro-partition maintained in the statistics.</p></div></div></div>"
   ]
  },
  {
   "cell_type": "code",
   "execution_count": null,
   "id": "9957ec82",
   "metadata": {},
   "outputs": [],
   "source": []
  }
 ],
 "metadata": {
  "kernelspec": {
   "display_name": "Python 3 (ipykernel)",
   "language": "python",
   "name": "python3"
  },
  "language_info": {
   "codemirror_mode": {
    "name": "ipython",
    "version": 3
   },
   "file_extension": ".py",
   "mimetype": "text/x-python",
   "name": "python",
   "nbconvert_exporter": "python",
   "pygments_lexer": "ipython3",
   "version": "3.10.6"
  }
 },
 "nbformat": 4,
 "nbformat_minor": 5
}
