{
 "cells": [
  {
   "cell_type": "markdown",
   "id": "8b43b320",
   "metadata": {},
   "source": [
    "<div class=\"practice--panel--ejs8J\"><div data-purpose=\"practice-component-text\" class=\"rt-scaffolding\"><h4>Lab Objective: Creating a new virtual warehouse using the user interface and SQL.</h4><p><br></p><p>This lab guides you through the process of creating a virtual warehouse using two different methods; using the Snowflake web user interface and also using SQL.</p><p><br></p><p><strong>First method: Creating a virtual warehouse using Snowflake web interface:</strong></p><ol><li><p>Login into the Snowflake web UI using the URL provided by Snowflake through email after you signed up for a Snowflake account. Once logged in, you will see a similar interface to the one shown below.</p><figure><img width=\"641\" src=\"https://github.com/melwinmpk/Snowflake/assets/25386607/3ed85849-895e-423b-b0c4-7039865add8a\" height=\"361\"></figure><p><br></p></li><li><p>Ensure your role is set to “SYSADMIN,” which can be seen in the top-left corner. SYSADMIN role is set by default. But, if your role is not set as SYSADMIN, you can do so by clicking on the small drop-down arrow next to the role, hovering on “Switch Role,” and selecting SYSADMIN.</p><figure><img width=\"408\" src=\"https://github.com/melwinmpk/Snowflake/assets/25386607/a7ca8f89-c3ff-47d2-84a1-7dbf3f073eee\" height=\"181\"></figure><p><br></p><p><br></p></li><li><p>To create a virtual warehouse, click the “Warehouses” button in the left navigation bar. Once clicked, you will be navigated to the interface where you can view and manage your existing warehouses or create a new one. You may see a warehouse called “COMPUTE_WH” already created. This warehouse comes pre-loaded with the Snowflake trial account. For this lab, we will create a new warehouse. Click the “+ Warehouse” button to create a new virtual warehouse.</p><figure><img width=\"837\" src=\"https://github.com/melwinmpk/Snowflake/assets/25386607/2335bed1-456e-409d-bc42-baffa88ab574\" height=\"471\"></figure><p><br></p></li><li><p>Once clicked, a pop-up opens, giving you the options of entering a name for the warehouse, size of the warehouse, auto-suspend (maximum idle time before the warehouse will be automatically suspended), and comment.</p><figure><img width=\"443\" src=\"https://github.com/melwinmpk/Snowflake/assets/25386607/076a5f1d-b27a-4003-a04e-abac5dca715c\" height=\"505\"></figure><p><br></p></li><li><p>Once you enter a suitable name, select the appropriate size and auto-suspend time, click on “Finish”.</p><p><br></p></li><li><p>Once done, your virtual warehouse will be created, which can be seen in the Warehouses web interface, as shown in the figure below.</p><p><br></p><figure><img width=\"890\" src=\"https://github.com/melwinmpk/Snowflake/assets/25386607/c9c81bf5-c786-4c8a-bf9f-697ff9d51493\" height=\"127\"></figure><p><br></p></li><li><p>Since we set this virtual warehouse to auto suspend after 5 minutes, after 5 minutes of inactivity, the previous view should show the “First_Warehouse” as suspended.</p><p><br></p></li></ol><p><br></p><p><strong>Second method: Creating a virtual warehouse using SQL:</strong></p><ol><li><p>The second method of creating a virtual warehouse in Snowflake is using SQL. To create a warehouse using SQL, click on the “Worksheets” button in the left navigation bar &amp; click the “+ Worksheet” button.</p><figure><img src=\"https://github.com/melwinmpk/Snowflake/assets/25386607/edaae442-0e92-4c08-bbc8-0a5efedabecb\"></figure><p><br></p></li><li><p>You will be navigated to a web interface where you can create a virtual warehouse using SQL syntax. For this lab, you can use the following SQL.</p><p><br></p><div class=\"ud-component--base-components--code-block\"><div><pre class=\"prettyprint linenums prettyprinted\" role=\"presentation\" style=\"\"><ol class=\"linenums\"><li class=\"L0\"><span class=\"pln\">CREATE WAREHOUSE ETL_VWH WITH</span></li><li class=\"L1\"><span class=\"pln\">WAREHOUSE_SIZE </span><span class=\"pun\">=</span><span class=\"pln\"> </span><span class=\"str\">'SMALL'</span></li><li class=\"L2\"><span class=\"pln\">WAREHOUSE_TYPE </span><span class=\"pun\">=</span><span class=\"pln\"> </span><span class=\"str\">'STANDARD'</span></li><li class=\"L3\"><span class=\"pln\">AUTO_SUSPEND </span><span class=\"pun\">=</span><span class=\"pln\"> </span><span class=\"lit\">300</span></li><li class=\"L4\"><span class=\"pln\">AUTO_RESUME </span><span class=\"pun\">=</span><span class=\"pln\"> TRUE</span><span class=\"pun\">;</span></li></ol></pre></div></div><p><br></p></li><li><p>The above SQL creates a virtual warehouse named ETL_VW with the following configuration; the warehouse size is small, the type is standard (more about this later in the course in the performance section), and auto-suspend is 300 (in seconds, 300 seconds is 5 minutes). Once the query is executed, you can see that the warehouse was successfully created in the results pane in the web interface.</p><figure><img width=\"312\" src=\"https://github.com/melwinmpk/Snowflake/assets/25386607/a9ca2860-323f-4da6-b1aa-be232eb5e87d\" height=\"222\"></figure><p><br></p></li><li><p>Now navigate to the Warehouses tab, refresh the view, and you can see that your warehouse is created with the settings you entered in the SQL syntax.</p><figure><img width=\"719\" src=\"https://github.com/melwinmpk/Snowflake/assets/25386607/bb33a783-b2b2-4baa-892c-0abef3d34f6c\" height=\"138\"></figure></li></ol><p><br></p></div><div class=\"practice--question-list--1HR9g practice--mt-md--3j-aS\" data-purpose=\"question-list\"><h4 class=\"ud-heading-md practice--mb-xs--Lpg-b\">Questions for this assignment</h4><div><div class=\"question--question--152Yi\"><div class=\"ud-text-bold question--title--2FD-U\"><div data-purpose=\"safely-set-inner-html:rich-text-viewer:html\" class=\"question--title-text--2kBEO rt-scaffolding\"><p>Did you manage to create the virtual warehouses through both methods? </p></div></div><div class=\"question--answer--2ASXa\"></div></div><div class=\"question--question--152Yi\"><div class=\"ud-text-bold question--title--2FD-U\"><div data-purpose=\"safely-set-inner-html:rich-text-viewer:html\" class=\"question--title-text--2kBEO rt-scaffolding\"><p>Which method do you prefer?</p></div></div><div class=\"question--answer--2ASXa\"></div></div></div></div></div>"
   ]
  },
  {
   "cell_type": "markdown",
   "id": "bd76a801",
   "metadata": {},
   "source": [
    "<div class=\"question--question--152Yi\"><div class=\"ud-text-bold question--title--2FD-U\"><div data-purpose=\"safely-set-inner-html:rich-text-viewer:html\" class=\"question--title-text--2kBEO rt-scaffolding\"><p>Did you manage to create the virtual warehouses through both methods? </p></div></div><div class=\"question--answer--2ASXa\"><div data-purpose=\"safely-set-inner-html:submission:user-answer-body\"><p>You should be able to create a virtual warehouse through either method. </p></div></div></div>\n",
    "\n",
    "\n",
    "<div class=\"question--question--152Yi\"><div class=\"ud-text-bold question--title--2FD-U\"><div data-purpose=\"safely-set-inner-html:rich-text-viewer:html\" class=\"question--title-text--2kBEO rt-scaffolding\"><p>Which method do you prefer?</p></div></div><div class=\"question--answer--2ASXa\"><div data-purpose=\"safely-set-inner-html:submission:user-answer-body\"><p>It depends on your own preference, but the SQL&nbsp;syntax provides slightly more configuration options in some cases.</p></div></div></div>"
   ]
  },
  {
   "cell_type": "code",
   "execution_count": null,
   "id": "83c3fe0a",
   "metadata": {},
   "outputs": [],
   "source": []
  }
 ],
 "metadata": {
  "kernelspec": {
   "display_name": "Python 3 (ipykernel)",
   "language": "python",
   "name": "python3"
  },
  "language_info": {
   "codemirror_mode": {
    "name": "ipython",
    "version": 3
   },
   "file_extension": ".py",
   "mimetype": "text/x-python",
   "name": "python",
   "nbconvert_exporter": "python",
   "pygments_lexer": "ipython3",
   "version": "3.10.6"
  }
 },
 "nbformat": 4,
 "nbformat_minor": 5
}
