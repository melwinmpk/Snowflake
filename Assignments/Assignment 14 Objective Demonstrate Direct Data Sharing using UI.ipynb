{
 "cells": [
  {
   "cell_type": "markdown",
   "id": "f928d293",
   "metadata": {},
   "source": [
    "<div class=\"practice--panel--ejs8J\"><div data-purpose=\"practice-component-text\" class=\"rt-scaffolding\"><h4>Objective: Demonstrate Direct Data Sharing using UI</h4><p><br></p><p>This hands-on activity shows how to use SQL to share a table with another Snowflake account using the Snowflake web user interface.</p><p><strong>You will need two Snowflake accounts for this exercise, one as a data supplier and one as a data consumer.</strong> We recommend that the two accounts used for this experiment be on the <strong><em>same cloud provider and in the same region</em></strong>. Although Snowflake facilitates data sharing between geographies and cloud providers, it does require data replication, which is beyond the scope of this course.</p><p>Please note that we will use the ACCOUNTADMIN role to create and manage the share. However, it is possible to grant CREATE SHARE privileges to another role, which can create a new share instead of ACCOUNTADMIN.</p><p><br></p><p><strong>The following steps must be run while logged into the <em>provider</em> account. </strong><em>We use SQL for the first 2 steps and then switch to the user interface.</em></p><p>1. Let us start by creating a database and a table that we use to demonstrate sharing.</p><div class=\"ud-component--base-components--code-block\"><div><pre class=\"prettyprint linenums prettyprinted\" role=\"presentation\" style=\"\"><ol class=\"linenums\"><li class=\"L0\"><span class=\"pln\">CREATE OR REPLACE DATABASE sharing_demo_db</span><span class=\"pun\">;</span></li><li class=\"L1\"><span class=\"pln\">USE DATABASE sharing_demo_db</span><span class=\"pun\">;</span></li></ol></pre></div></div><p><br></p><p>2. Next, we create a new table and populate it with some data. Let us simplify the process by using the CUSTOMER table from the Snowflake sample database. We have named the new table CUSTOMER. To create a table from the sample database, use the following SQL.</p><div class=\"ud-component--base-components--code-block\"><div><pre class=\"prettyprint linenums prettyprinted\" role=\"presentation\" style=\"\"><ol class=\"linenums\"><li class=\"L0\"><span class=\"pln\">CREATE TABLE CUSTOMER</span></li><li class=\"L1\"><span class=\"pln\">AS SELECT </span><span class=\"pun\">*</span><span class=\"pln\"> FROM SNOWFLAKE_SAMPLE_DATA</span><span class=\"pun\">.</span><span class=\"pln\">TPCDS_SF10TCL</span><span class=\"pun\">.</span><span class=\"pln\">CUSTOMER</span><span class=\"pun\">;</span></li></ol></pre></div></div><p><br></p><p>3. Next, in the user interface, change your role to ACCOUNTADMIN and navigate to Data-&gt;Private Sharing, as shown in the screenshot below. Then in the top bar, navigate to “Shared By Your Account.”. On this screen, You will see direct shares that you may have created previously.</p><figure><img width=\"713\" src=\"https://github.com/melwinmpk/Snowflake/assets/25386607/ce039a1d-e217-41e5-b453-26c12356f447\" height=\"252\"></figure><p><br></p><p>4. Let us create a new direct share now. To do so, click the Share drop-down on the right-hand side and click “Create a Direct Share,” as shown below.</p><figure><img width=\"260\" src=\"https://github.com/melwinmpk/Snowflake/assets/25386607/3af9c9ff-0b61-49c9-adbd-3c438971332d\" height=\"140\"></figure><p><br></p><p>5. The create share allows you to select the data to be shared and add one or more accounts (in your region) which whom the data will be shared.</p><figure><img width=\"435\" src=\"https://github.com/melwinmpk/Snowflake/assets/25386607/37d225cf-85d2-42dc-b592-b8c6519330e0\" height=\"257\"></figure><p><br></p><p>6. Select the tables you want to share by clicking “+ Select Data,” navigating to the database containing the table, and selecting the table. In addition, you can add multiple tables (within the same database) if required.</p><figure><img width=\"621\" src=\"https://github.com/melwinmpk/Snowflake/assets/25386607/8119e9e5-02c7-4ef2-adfe-64fce71c4321\" height=\"470\"></figure><p><br></p><p><br></p><p>7. Next, add the consumer to your share, as shown below. You will need to know the consumer account name for this step. For simplicity, choose a consumer in your region using the same cloud provider. You can add multiple consumer accounts if so required. Also, ensure you provide a descriptive identifier for the share so that it is easy for the consumer to understand. For example, in the screenshot below, we named the secure share “SHR_CUSTOMER.”</p><figure><img width=\"403\" src=\"https://github.com/melwinmpk/Snowflake/assets/25386607/278df491-5af3-4820-b3e6-da7ec2babc2f\" height=\"395\"></figure><p><br></p><p>8. Clicking “Create Share” creates the share and shows a confirmation screen, as shown below.</p><figure><img width=\"667\" src=\"https://github.com/melwinmpk/Snowflake/assets/25386607/7675b76a-4406-4cd5-b589-3d04dd49f2e6\" height=\"542\"></figure><p><br></p><p><strong>The following steps must be run while logged into the <em>consumer</em> account.</strong></p><p>Please note that we will use the ACCOUNTADMIN role to perform the following steps. It is possible to grant IMPORT SHARE privileges to another role, which can then consume a share instead of ACCOUNTADMIN.</p><p><br></p><p>9. In the user interface, change your role to ACCOUNTADMIN and navigate to Data-&gt;Private Sharing, as shown in the screenshot below. Then in the top bar, navigate to “Shared With You.” On this screen, You will see direct shares that have been shared with you. If the share has already been consumed, it will NOT have a blue drop-down next to it.</p><figure><img width=\"742\" src=\"https://github.com/melwinmpk/Snowflake/assets/25386607/b0f0d738-9a87-4c17-b5de-78806b843d40\" height=\"334\"></figure><p><br></p><p><br></p><p>10. Let us consume the share now. On the “SHR_CUSTOMER” click the blue drop-down (Get Data) button. Clicking this button shows the “Get Data” screen. Make sure you provide a meaningful database name. If required, you can also add additional roles which can access this database. Once done, click “Get Data.”</p><figure><img width=\"392\" src=\"https://github.com/melwinmpk/Snowflake/assets/25386607/19025e7e-ff34-4ee7-ab09-f028c453ddd1\" height=\"349\"></figure><p><br></p><p>11. Snowflake creates a read-only database named PROSPECTIVE_CUSTOMERS_DB using the share, and the confirmation message is shown below.</p><figure><img width=\"194\" src=\"https://github.com/melwinmpk/Snowflake/assets/25386607/651daeae-ca0c-4e98-9003-1443dae17ec4\" height=\"230\"></figure><p><br></p><p>12. You can click “View Database,” which takes you to the database view. You can now query the shared table just like any other table.</p><figure><img width=\"259\" src=\"https://github.com/melwinmpk/Snowflake/assets/25386607/8b4ee5fb-dd6c-45a0-84a9-aefa96f3ba52\" height=\"135\"></figure></div><div class=\"practice--question-list--1HR9g practice--mt-md--3j-aS\" data-purpose=\"question-list\"><h4 class=\"ud-heading-md practice--mb-xs--Lpg-b\">Questions for this assignment</h4><div><div class=\"question--question--152Yi\"><div class=\"ud-text-bold question--title--2FD-U\"><div data-purpose=\"safely-set-inner-html:rich-text-viewer:html\" class=\"question--title-text--2kBEO rt-scaffolding\"><p>When directly sharing data with another Snowflake account, are there any underlying differences if you perform the action through SQL versus the User Interface?</p></div></div><div class=\"question--answer--2ASXa\"></div></div></div></div></div>"
   ]
  },
  {
   "cell_type": "markdown",
   "id": "73df7857",
   "metadata": {},
   "source": [
    "<p>\n",
    "<p><b>Q1) Ans</b></p>\n",
    "<p>No. Behind the scenes, the user interface is also executing SQL statements to accomplish direct sharing. The user interface eases the process a bit.</p>\n",
    "</p>"
   ]
  },
  {
   "cell_type": "code",
   "execution_count": null,
   "id": "167ca20e",
   "metadata": {},
   "outputs": [],
   "source": []
  }
 ],
 "metadata": {
  "kernelspec": {
   "display_name": "Python 3 (ipykernel)",
   "language": "python",
   "name": "python3"
  },
  "language_info": {
   "codemirror_mode": {
    "name": "ipython",
    "version": 3
   },
   "file_extension": ".py",
   "mimetype": "text/x-python",
   "name": "python",
   "nbconvert_exporter": "python",
   "pygments_lexer": "ipython3",
   "version": "3.10.6"
  }
 },
 "nbformat": 4,
 "nbformat_minor": 5
}
