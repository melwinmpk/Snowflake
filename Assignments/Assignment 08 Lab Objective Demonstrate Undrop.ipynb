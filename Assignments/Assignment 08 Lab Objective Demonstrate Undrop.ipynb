{
 "cells": [
  {
   "cell_type": "markdown",
   "id": "8c07fea3",
   "metadata": {},
   "source": [
    "<div class=\"practice--panel--ejs8J\"><div data-purpose=\"practice-component-text\" class=\"rt-scaffolding\"><blockquote><h4>Lab Objective: Demonstrate Undrop</h4></blockquote><p><br></p><p>This lab demonstrates the usage of the undrop feature offered through the Time Travel capability in Snowflake. To demonstrate undrop, we reuse the database we created in the previous assignment and create additional tables in that database. Then we drop one of the tables and demonstrate how to undrop a single table. After that, we drop the whole database and recover it through undrop functionality.</p><p><br></p><ol><li><p>Create an additional table in the timetravel_demo database.</p><div class=\"ud-component--base-components--code-block\"><div><pre class=\"prettyprint linenums prettyprinted\" role=\"presentation\" style=\"\"><ol class=\"linenums\"><li class=\"L0\"><span class=\"pln\">USE DATABASE timetravel_demo</span><span class=\"pun\">;</span></li><li class=\"L1\"><span class=\"pln\">CREATE TABLE CUSTOMER</span></li><li class=\"L2\"><span class=\"pln\">AS SELECT </span><span class=\"pun\">*</span><span class=\"pln\"> FROM SNOWFLAKE_SAMPLE_DATA</span><span class=\"pun\">.</span><span class=\"pln\">TPCDS_SF10TCL</span><span class=\"pun\">.</span><span class=\"pln\">CUSTOMER</span><span class=\"pun\">;</span></li></ol></pre></div></div><p><br></p></li><li><p>Next, let us simulate an accidental drop of the STORE table we had previously created. To do so, run the following SQL.</p><div class=\"ud-component--base-components--code-block\"><div><pre class=\"prettyprint linenums prettyprinted\" role=\"presentation\" style=\"\"><ol class=\"linenums\"><li class=\"L0\"><span class=\"pln\">DROP TABLE STORE</span><span class=\"pun\">;</span></li></ol></pre></div></div><p><br></p></li><li><p>Let us validate that the table is indeed dropped by trying to run a query on the table. The query should fail.</p><div class=\"ud-component--base-components--code-block\"><div><pre class=\"prettyprint linenums prettyprinted\" role=\"presentation\" style=\"\"><ol class=\"linenums\"><li class=\"L0\"><span class=\"pln\">SELECT COUNT</span><span class=\"pun\">(*)</span><span class=\"pln\"> FROM STORE</span><span class=\"pun\">;</span></li></ol></pre></div></div><p><br></p></li><li><p>Now, we undrop the table, which can be achieved through the following SQL.</p><div class=\"ud-component--base-components--code-block\"><div><pre class=\"prettyprint linenums prettyprinted\" role=\"presentation\" style=\"\"><ol class=\"linenums\"><li class=\"L0\"><span class=\"pln\">UNDROP TABLE STORE</span><span class=\"pun\">;</span></li></ol></pre></div></div><p><br></p></li><li><p>Let us run another query on the STORE table to validate that the table has indeed recovered. The following query should complete successfully, indicating that the table has been restored successfully.</p><div class=\"ud-component--base-components--code-block\"><div><pre class=\"prettyprint linenums prettyprinted\" role=\"presentation\" style=\"\"><ol class=\"linenums\"><li class=\"L0\"><span class=\"pln\">SELECT COUNT</span><span class=\"pun\">(*)</span><span class=\"pln\"> FROM STORE</span><span class=\"pun\">;</span></li></ol></pre></div></div><p><br></p></li><li><p>Now we drop the whole timeravel_demo database.</p><div class=\"ud-component--base-components--code-block\"><div><pre class=\"prettyprint linenums prettyprinted\" role=\"presentation\" style=\"\"><ol class=\"linenums\"><li class=\"L0\"><span class=\"pln\">DROP DATABASE timetravel_demo</span><span class=\"pun\">;</span></li></ol></pre></div></div><p><br></p></li><li><p>Let us validate that the database is dropped by running the following set of SQLs. Each statement should fail.</p><div class=\"ud-component--base-components--code-block\"><div><pre class=\"prettyprint linenums prettyprinted\" role=\"presentation\" style=\"\"><ol class=\"linenums\"><li class=\"L0\"><span class=\"pln\">USE DATABASE timetravel_demo</span><span class=\"pun\">;</span></li><li class=\"L1\"><span class=\"pln\">SELECT COUNT</span><span class=\"pun\">(*)</span><span class=\"pln\"> FROM timetravel_demo</span><span class=\"pun\">.</span><span class=\"kwd\">public</span><span class=\"pun\">.</span><span class=\"pln\">STORE</span><span class=\"pun\">;</span></li></ol></pre></div></div><p><br></p></li><li><p>To recover from this situation, we can use UNDROP to recover the whole database, including its children schema and any tables included in it. To do so, run the following SQL.</p><div class=\"ud-component--base-components--code-block\"><div><pre class=\"prettyprint linenums prettyprinted\" role=\"presentation\" style=\"\"><ol class=\"linenums\"><li class=\"L0\"><span class=\"pln\">UNDROP DATABASE timetravel_demo</span><span class=\"pun\">;</span></li></ol></pre></div></div><p><br></p></li><li><p>Let us validate that the database is restored by running the following set of SQLs. Each statement should succeed, demonstrating that the undrop was successful and has recovered the drop database and any schemas and tables within it.</p><div class=\"ud-component--base-components--code-block\"><div><pre class=\"prettyprint linenums prettyprinted\" role=\"presentation\" style=\"\"><ol class=\"linenums\"><li class=\"L0\"><span class=\"pln\">USE DATABASE timetravel_demo</span><span class=\"pun\">;</span></li><li class=\"L1\"><span class=\"pln\">SELECT COUNT</span><span class=\"pun\">(*)</span><span class=\"pln\"> FROM STORE</span><span class=\"pun\">;</span></li><li class=\"L2\"><span class=\"pln\">SELECT COUNT</span><span class=\"pun\">(*)</span><span class=\"pln\"> FROM CUSTOMER</span><span class=\"pun\">;</span></li></ol></pre></div></div></li></ol></div><div class=\"practice--question-list--1HR9g practice--mt-md--3j-aS\" data-purpose=\"question-list\"><h4 class=\"ud-heading-md practice--mb-xs--Lpg-b\">Questions for this assignment</h4><div><div class=\"question--question--152Yi\"><div class=\"ud-text-bold question--title--2FD-U\"><div data-purpose=\"safely-set-inner-html:rich-text-viewer:html\" class=\"question--title-text--2kBEO rt-scaffolding\"><p>Using UNDROP command which type of objects can be restored or un-deleted?</p></div></div><div class=\"question--answer--2ASXa\"></div></div></div></div></div>"
   ]
  },
  {
   "cell_type": "markdown",
   "id": "29f9fc9e",
   "metadata": {},
   "source": [
    "<p><b>Ans Q1)</b>\n",
    "<p>You can restore tables, schemas, and databases using the UNDROP command.<br>\n",
    "You can also use UNDROP with TAG objects</p>\n",
    "</p>"
   ]
  },
  {
   "cell_type": "code",
   "execution_count": null,
   "id": "f7530b25",
   "metadata": {},
   "outputs": [],
   "source": []
  }
 ],
 "metadata": {
  "kernelspec": {
   "display_name": "Python 3 (ipykernel)",
   "language": "python",
   "name": "python3"
  },
  "language_info": {
   "codemirror_mode": {
    "name": "ipython",
    "version": 3
   },
   "file_extension": ".py",
   "mimetype": "text/x-python",
   "name": "python",
   "nbconvert_exporter": "python",
   "pygments_lexer": "ipython3",
   "version": "3.10.6"
  }
 },
 "nbformat": 4,
 "nbformat_minor": 5
}
