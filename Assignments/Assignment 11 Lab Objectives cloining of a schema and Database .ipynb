{
 "cells": [
  {
   "cell_type": "markdown",
   "id": "daea140e",
   "metadata": {},
   "source": [
    "<div class=\"practice--panel--ejs8J\"><div data-purpose=\"practice-component-text\" class=\"rt-scaffolding\"><h4>Lab Objective: Clone a schema and a complete database. This hands-on activity involves cloning a complete schema followed by cloning a complete database with its child schemas.</h4><p><br></p><ol><li><p>We start by creating a new database called <em>SAMPLE_DATA_DB. </em>We intend to create two child schemas in this database and populate a few tables in each schema using the sample data provided by Snowflake.</p><div class=\"ud-component--base-components--code-block\"><div><pre class=\"prettyprint linenums prettyprinted\" role=\"presentation\" style=\"\"><ol class=\"linenums\"><li class=\"L0\"><span class=\"pln\">CREATE DATABASE SAMPLE_DATA_DB</span><span class=\"pun\">;</span></li><li class=\"L1\"><span class=\"pln\">USE DATABASE SAMPLE_DATA_DB</span><span class=\"pun\">;</span></li></ol></pre></div></div><p><br></p></li><li><p>Next, we create a schema in <em>SAMPLE_DATA_DB </em>called <em>sample_schema1. </em>We will then create three tables in this schema and demonstrate schema cloning using this schema.</p><div class=\"ud-component--base-components--code-block\"><div><pre class=\"prettyprint linenums prettyprinted\" role=\"presentation\" style=\"\"><ol class=\"linenums\"><li class=\"L0\"><span class=\"pln\">CREATE SCHEMA SAMPLE_SCHEMA1</span><span class=\"pun\">;</span></li><li class=\"L1\"><span class=\"pln\">USE SCHEMA SAMPLE_SCHEMA1</span><span class=\"pun\">;</span></li><li class=\"L2\"><span class=\"pln\">CREATE TABLE CUSTOMER AS SELECT </span><span class=\"pun\">*</span><span class=\"pln\"> FROM SNOWFLAKE_SAMPLE_DATA</span><span class=\"pun\">.</span><span class=\"pln\">TPCH_SF1</span><span class=\"pun\">.</span><span class=\"pln\">CUSTOMER</span><span class=\"pun\">;</span></li><li class=\"L3\"><span class=\"pln\">CREATE TABLE NATION AS SELECT </span><span class=\"pun\">*</span><span class=\"pln\"> FROM SNOWFLAKE_SAMPLE_DATA</span><span class=\"pun\">.</span><span class=\"pln\">TPCH_SF1</span><span class=\"pun\">.</span><span class=\"pln\">NATION</span><span class=\"pun\">;</span></li><li class=\"L4\"><span class=\"pln\">CREATE TABLE REGION AS SELECT </span><span class=\"pun\">*</span><span class=\"pln\"> FROM SNOWFLAKE_SAMPLE_DATA</span><span class=\"pun\">.</span><span class=\"pln\">TPCH_SF1</span><span class=\"pun\">.</span><span class=\"pln\">REGION</span><span class=\"pun\">;</span></li></ol></pre></div></div><p><br></p></li><li><p>Let us create an additional schema to demonstrate that the database, its child schemas, and all the child tables are cloned during a database cloning operation. To create the schema and some sample tables, run the following SQL.</p><div class=\"ud-component--base-components--code-block\"><div><pre class=\"prettyprint linenums prettyprinted\" role=\"presentation\" style=\"\"><ol class=\"linenums\"><li class=\"L0\"><span class=\"pln\">CREATE SCHEMA SAMPLE_SCHEMA2</span><span class=\"pun\">;</span></li><li class=\"L1\"><span class=\"pln\">USE SCHEMA SAMPLE_SCHEMA2</span><span class=\"pun\">;</span></li><li class=\"L2\"><span class=\"pln\">CREATE TABLE DATE_DIM AS SELECT </span><span class=\"pun\">*</span><span class=\"pln\"> FROM SNOWFLAKE_SAMPLE_DATA</span><span class=\"pun\">.</span><span class=\"pln\">TPCDS_SF10TCL</span><span class=\"pun\">.</span><span class=\"pln\">DATE_DIM</span><span class=\"pun\">;</span></li><li class=\"L3\"><span class=\"pln\">CREATE TABLE STORE AS SELECT </span><span class=\"pun\">*</span><span class=\"pln\"> FROM SNOWFLAKE_SAMPLE_DATA</span><span class=\"pun\">.</span><span class=\"pln\">TPCDS_SF10TCL</span><span class=\"pun\">.</span><span class=\"pln\">STORE</span><span class=\"pun\">;</span></li></ol></pre></div></div><p><br></p></li><li><p>Let us now create a database to demonstrate schema cloning.</p><div class=\"ud-component--base-components--code-block\"><div><pre class=\"prettyprint linenums prettyprinted\" role=\"presentation\" style=\"\"><ol class=\"linenums\"><li class=\"L0\"><span class=\"pln\">CREATE DATABASE DEMO_SCHEMA_CLONING</span><span class=\"pun\">;</span></li><li class=\"L1\"><span class=\"pln\">USE DATABASE DEMO_SCHEMA_CLONING</span><span class=\"pun\">;</span></li></ol></pre></div></div><p><br></p></li><li><p>To clone the complete <em>SAMPLE_SCHEMA1 </em>run the following SQL. Notice that we use the CLONE keyword during the schema creation process.</p><div class=\"ud-component--base-components--code-block\"><div><pre class=\"prettyprint linenums prettyprinted\" role=\"presentation\" style=\"\"><ol class=\"linenums\"><li class=\"L0\"><span class=\"pln\">CREATE SCHEMA MY_SAMPLE_SCHEMA CLONE SAMPLE_DATA_DB</span><span class=\"pun\">.</span><span class=\"pln\">SAMPLE_SCHEMA1</span><span class=\"pun\">;</span></li></ol></pre></div></div><p><br></p></li><li><p>Once the schema creation is complete, use the Snowflake web user interface to view the <em>DEMO_SCHEMA_CLONING </em>database, its child schemas, and the table within. You will notice that the cloned schema (<em>MY_SAMPLE_SCHEMA</em>) contains all the tables present in the <em>SAMPLE_SCHEMA1. </em>The screenshot below shows the cloned schema.</p><figure><img width=\"250\" src=\"https://github.com/melwinmpk/Snowflake/assets/25386607/9d90bc63-5b8e-4f66-b4cb-62f632711bb3\" height=\"195\"></figure><p><br></p><p><br></p></li><li><p>Next, we demonstrate complete database cloning. The syntax is straightforward and requires using the CLONE keyword during the creation process. To clone the complete <em>SAMPLE_DATA_DB</em> database, run the following SQL.</p><div class=\"ud-component--base-components--code-block\"><div><pre class=\"prettyprint linenums prettyprinted\" role=\"presentation\" style=\"\"><ol class=\"linenums\"><li class=\"L0\"><span class=\"pln\">CREATE DATABASE DEMO_DATABASE_CLONING CLONE SAMPLE_DATA_DB</span><span class=\"pun\">;</span></li></ol></pre></div></div><p><br></p></li><li><p>Once the database is created, use the Snowflake web user interface to view the <em>DEMO_DATABASE_CLONING </em>database, its child schemas, and the table within. You will notice that the cloned database contains all the schemas (SAMPLE_SCHEMA1, SAMPLE_SCHEMA2) from the source database, and all tables contained within the sources schemas are present in the cloned schemas, as shown below.</p><figure><img width=\"289\" src=\"https://github.com/melwinmpk/Snowflake/assets/25386607/ef60e9c3-6d1c-42c2-8821-3665c4e30b41\" height=\"464\"></figure></li></ol><p><br></p></div><div class=\"practice--question-list--1HR9g practice--mt-md--3j-aS\" data-purpose=\"question-list\"><h4 class=\"ud-heading-md practice--mb-xs--Lpg-b\">Questions for this assignment</h4><div><div class=\"question--question--152Yi\"><div class=\"ud-text-bold question--title--2FD-U\"><div data-purpose=\"safely-set-inner-html:rich-text-viewer:html\" class=\"question--title-text--2kBEO rt-scaffolding\"><p>If you are required to clone a database, its children schemas, and its tables, what is the most efficient way?</p><p>1 - Create a new database. Clone all schemas individually and then clone all tables individually.</p><p>Or</p><p>2- Clone the database, and its child schemas and child tables will be included in the clone operation. </p></div></div><div class=\"question--answer--2ASXa\"></div></div></div></div></div>\n"
   ]
  },
  {
   "cell_type": "markdown",
   "id": "f5aca6df",
   "metadata": {},
   "source": [
    "<p>\n",
    "<p><b>Q1 Ans</b></p>\n",
    "<p>Clone the database. Its child schemas and child tables will be included in the clone operation.</p>\n",
    "</p>"
   ]
  },
  {
   "cell_type": "code",
   "execution_count": null,
   "id": "9f0f89f9",
   "metadata": {},
   "outputs": [],
   "source": []
  }
 ],
 "metadata": {
  "kernelspec": {
   "display_name": "Python 3 (ipykernel)",
   "language": "python",
   "name": "python3"
  },
  "language_info": {
   "codemirror_mode": {
    "name": "ipython",
    "version": 3
   },
   "file_extension": ".py",
   "mimetype": "text/x-python",
   "name": "python",
   "nbconvert_exporter": "python",
   "pygments_lexer": "ipython3",
   "version": "3.10.6"
  }
 },
 "nbformat": 4,
 "nbformat_minor": 5
}
