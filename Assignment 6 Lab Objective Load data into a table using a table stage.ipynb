{
 "cells": [
  {
   "cell_type": "markdown",
   "id": "2ebfdecc",
   "metadata": {},
   "source": [
    "<div class=\"practice--panel--ejs8J\"><div data-purpose=\"practice-component-text\" class=\"rt-scaffolding\"><h4>Lab Objective: Load data into a table using<strong> a table stage</strong></h4><p>This lab guides you through loading data into a Snowflake table using the table stage associated with that table. We will use SnowSQL to transfer data into the table stage.</p><p><br></p><ol><li><p>Create a new database in your Snowflake instance named of dev_lnd. We have used the <em>dev_lnd</em> naming convention to represent the landing database in the development environment. We will use this database for loading data.</p><div class=\"ud-component--base-components--code-block\"><div><pre class=\"prettyprint linenums prettyprinted\" role=\"presentation\" style=\"\"><ol class=\"linenums\"><li class=\"L0\"><span class=\"pln\">CREATE DATABASE dev_lnd</span><span class=\"pun\">;</span></li></ol></pre></div></div><p><br></p></li><li><p>In the dev_lnd database, create a new table named LU_City_Market. The LU_City_Market table should have the following columns.</p><p>a. City_Market_ID NUMBER</p><p>b. City_Market_Description STRING</p><p><br></p><div class=\"ud-component--base-components--code-block\"><div><pre class=\"prettyprint linenums prettyprinted\" role=\"presentation\" style=\"\"><ol class=\"linenums\"><li class=\"L0\"><span class=\"pln\">USE DATABASE dev_lnd</span><span class=\"pun\">;</span></li><li class=\"L1\"><span class=\"pln\">USE SCHEMA </span><span class=\"kwd\">public</span><span class=\"pun\">;</span></li><li class=\"L2\"><span class=\"pln\">&nbsp;</span></li><li class=\"L3\"><span class=\"pln\">CREATE TABLE LU_City_Market</span></li><li class=\"L4\"><span class=\"pun\">(</span></li><li class=\"L5\"><span class=\"typ\">City_Market_ID</span><span class=\"pln\"> </span><span class=\"typ\">Number</span><span class=\"pun\">,</span></li><li class=\"L6\"><span class=\"typ\">City_Market_Description</span><span class=\"pln\"> </span><span class=\"typ\">String</span></li><li class=\"L7\"><span class=\"pun\">);</span></li></ol></pre></div></div><p><br></p></li><li><p>Download the data for the LU_City_Market table from <a target=\"_blank\" rel=\"noopener noreferrer\" href=\"https://snowpro-core-exam-guide.s3.amazonaws.com/data/flights/lookup_tables/L_CITY_MARKET_ID.csv\">https://snowpro-core-exam-guide.s3.amazonaws.com/data/flights/lookup_tables/L_CITY_MARKET_ID.csv</a> Download the file, store it in a folder and familiarize yourself with the structure. The file is a CSV file with two columns, where values are comma-separated and are enclosed in double quotes.</p><p><br></p></li><li><p>We will use the table stage object, created and associated automatically with a table. A table stage can not be altered or dropped. Let us see the content of the table stage for the LU_City_Market table. There would be no files in the stage as the table was just created. Notice that a table stage is accessed by using a @%followed by the table name.</p><div class=\"ud-component--base-components--code-block\"><div><pre class=\"prettyprint linenums prettyprinted\" role=\"presentation\" style=\"\"><ol class=\"linenums\"><li class=\"L0\"><span class=\"pln\">LIST </span><span class=\"pun\">@%</span><span class=\"pln\">LU_City_Market</span><span class=\"pun\">;</span></li></ol></pre></div></div><p><br></p></li><li><p>This next step must be run through SnowSQL. We will upload a file from our laptop/computer to the table stage. The step must be run through SnowSQL as it will be run from your PC and access to the local file and your Snowflake instance.</p><div class=\"ud-component--base-components--code-block\"><div><pre class=\"prettyprint linenums prettyprinted\" role=\"presentation\" style=\"\"><ol class=\"linenums\"><li class=\"L0\"><span class=\"pln\">USE DATABASE dev_lnd</span><span class=\"pun\">;</span></li><li class=\"L1\"><span class=\"pln\">PUT </span><span class=\"str\">'file:///&lt;PATH&gt;/L_CITY_MARKET_ID.csv'</span><span class=\"pln\"> </span><span class=\"pun\">@%</span><span class=\"pln\">LU_City_Market</span><span class=\"pun\">;</span></li></ol></pre></div></div><p><br></p></li><li><p>Please remember that the previous step’s &lt;PATH&gt; placeholder needs to be updated with the path to the L_CITY_MARKET_ID.csv file you just uploaded. Also, remember to use forward slashes instead of backslashes when creating the route. For example, if you’re operating on a Windows PC, and the file is located in the C:\\Users\\smith\\ L_AIRPORT_ID.csv, then you’ll need to specify C:/Users/smith/ L_AIRPORT_ID.csv in the PUT statement.</p><p><br></p></li><li><p>List the data in stage to ensure the file was uploaded successfully. You should see a single L_CITY_MARKET_ID.csv.gz file. Notice how Snowflake automatically compresses files as it uploads into an internal stage.</p><div class=\"ud-component--base-components--code-block\"><div><pre class=\"prettyprint linenums prettyprinted\" role=\"presentation\" style=\"\"><ol class=\"linenums\"><li class=\"L0\"><span class=\"pln\">LIST </span><span class=\"pun\">@%</span><span class=\"pln\">LU_City_Market</span><span class=\"pun\">;</span></li></ol></pre></div></div><p><br></p></li><li><p>Let us load the data into the LU_City_Market table from the table stage. We will use the COPY command to load the data from the table stage. Notice that we will need to specify a file format because we can not specify a file format with a table stage (as a table stage cannot be altered).</p><div class=\"ud-component--base-components--code-block\"><div><pre class=\"prettyprint linenums prettyprinted\" role=\"presentation\" style=\"\"><ol class=\"linenums\"><li class=\"L0\"><span class=\"pln\">USE DATABASE dev_lnd</span><span class=\"pun\">;</span></li><li class=\"L1\"><span class=\"pln\">COPY INTO LU_City_Market</span></li><li class=\"L2\"><span class=\"pln\">FROM </span><span class=\"pun\">@%</span><span class=\"pln\">LU_City_Market</span></li><li class=\"L3\"><span class=\"pln\">FILE_FORMAT </span><span class=\"pun\">=</span><span class=\"pln\"> </span><span class=\"pun\">(</span><span class=\"pln\">TYPE </span><span class=\"pun\">=</span><span class=\"pln\"> csv FIELD_DELIMITER </span><span class=\"pun\">=</span><span class=\"pln\"> </span><span class=\"str\">','</span><span class=\"pln\"> FIELD_OPTIONALLY_ENCLOSED_BY </span><span class=\"pun\">=</span><span class=\"pln\"> </span><span class=\"str\">'\"'</span><span class=\"pln\"> SKIP_HEADER </span><span class=\"pun\">=</span><span class=\"pln\"> </span><span class=\"lit\">1</span><span class=\"pun\">);</span></li></ol></pre></div></div><p><br></p></li><li><p>The previous command loads 5962 rows. Select the loaded rows to validate that data loaded successfully</p><div class=\"ud-component--base-components--code-block\"><div><pre class=\"prettyprint linenums prettyprinted\" role=\"presentation\" style=\"\"><ol class=\"linenums\"><li class=\"L0\"><span class=\"pln\">SELECT </span><span class=\"pun\">*</span><span class=\"pln\"> FROM LU_City_Market</span><span class=\"pun\">;</span></li></ol></pre></div></div><p><br></p></li><li><p>It is good to clear the data in a table stage after it has been loaded. This ensures that you don’t get hit with unnecessary storage costs.</p><div class=\"ud-component--base-components--code-block\"><div><pre class=\"prettyprint linenums prettyprinted\" role=\"presentation\" style=\"\"><ol class=\"linenums\"><li class=\"L0\"><span class=\"pln\">REMOVE </span><span class=\"pun\">@%</span><span class=\"pln\">LU_City_Market</span><span class=\"pun\">;</span></li></ol></pre></div></div></li></ol><p><br></p><p><em>Note that when using a table stage, you can only use the table associated with that stage. You can not load a different table from data in another table’s stage.</em></p></div><div class=\"practice--question-list--1HR9g practice--mt-md--3j-aS\" data-purpose=\"question-list\"><h4 class=\"ud-heading-md practice--mb-xs--Lpg-b\">Questions for this assignment</h4><div><div class=\"question--question--152Yi\"><div class=\"ud-text-bold question--title--2FD-U\"><div data-purpose=\"safely-set-inner-html:rich-text-viewer:html\" class=\"question--title-text--2kBEO rt-scaffolding\"><p>Is using the table stage a good option if you are required to load several different tables with different CSV files from an on-premises system?</p></div></div><div class=\"question--answer--2ASXa\"></div></div></div></div></div>"
   ]
  },
  {
   "cell_type": "markdown",
   "id": "c6c9a650",
   "metadata": {},
   "source": [
    "<p>A table stage can be used to load only its associated table. It might be better to create a single named internal stage to load multiple tables.<br>\n",
    "Also, If you are using table stages to load tables, you will need to configure the file format options for each COPY command since you can not update the file format for the stage. If using a named internal stage, you will be able to specify the file format in the stage definition.</p>"
   ]
  },
  {
   "cell_type": "code",
   "execution_count": null,
   "id": "b7651d9a",
   "metadata": {},
   "outputs": [],
   "source": []
  }
 ],
 "metadata": {
  "kernelspec": {
   "display_name": "Python 3 (ipykernel)",
   "language": "python",
   "name": "python3"
  },
  "language_info": {
   "codemirror_mode": {
    "name": "ipython",
    "version": 3
   },
   "file_extension": ".py",
   "mimetype": "text/x-python",
   "name": "python",
   "nbconvert_exporter": "python",
   "pygments_lexer": "ipython3",
   "version": "3.10.6"
  }
 },
 "nbformat": 4,
 "nbformat_minor": 5
}
