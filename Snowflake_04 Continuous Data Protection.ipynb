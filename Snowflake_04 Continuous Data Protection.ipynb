{
 "cells": [
  {
   "cell_type": "markdown",
   "id": "8288991c",
   "metadata": {},
   "source": [
    "<h2>Back to the Future with Time Travel</h2>\n",
    "\n",
    "<ul>\n",
    "<li><b>Time Travel</b></li>\n",
    "    <ul>\n",
    "        <li>Travel back to a point in time</li>\n",
    "        <li>Travel back to a point before a query</li>\n",
    "        <li>Un-drop objects</li>\n",
    "        <li>Undo accidental changes</li>\n",
    "    </ul>\n",
    "<li><b>Time Travel can be done on which Objects</b></li>\n",
    "    <ul>\n",
    "        <li>Databases</li>\n",
    "        <li>Schemas</li>\n",
    "        <li>Tables</li>\n",
    "    </ul>\n",
    "<li><b>Some use cases</b></li>\n",
    "    <ul>\n",
    "        <li>Query data in past</li>\n",
    "        <li>Restore dropped databases, tables & schemas</li>\n",
    "        <li>Combine time travel with cloning</li>\n",
    "    </ul>\n",
    "</ul>"
   ]
  },
  {
   "cell_type": "markdown",
   "id": "1f24a8a2",
   "metadata": {},
   "source": [
    "<h3>Micro-partitions & metadata are key to time travel</h3>"
   ]
  },
  {
   "cell_type": "markdown",
   "id": "8ad91331",
   "metadata": {},
   "source": [
    "<h3>Time Travel SQL extensions</h3>\n",
    "<ul>\n",
    "    <li>AT and Before Clause</li>\n",
    "    <li>UNDROP statement</li>\n",
    "    <li><b>AT</b></li>\n",
    "    <ul>\n",
    "    <li>the AT clause can be used in 3 different ways</li>\n",
    "    <pre>\n",
    "            SELECT ....\n",
    "            FROM ...\n",
    "                AT ({ TIMESTAMP => < timestamp > | OFFSET => < time_difference > | STATEMENT => < id > })\n",
    "            ....    \n",
    "    </pre>\n",
    "    <li>Specify a timespamp</li>\n",
    "    <li>Specify an offset from the current time</li>\n",
    "    <li>Specify an SQL statement id</li>\n",
    "    </ul>\n",
    "    <li><b>BEFORE</b></li>\n",
    "    <ul>\n",
    "        <li>The Before clause can also be used in 3 different ways</li>\n",
    "        <pre>\n",
    "            SELECT ...\n",
    "            FROM ...\n",
    "            BEFORE( { TIMESTAMP => < timestamp > | OFFSET => < time_differnce > | STATEMENT => < id >} )\n",
    "        </pre>\n",
    "        <li>Specify an SQL statement id</li>\n",
    "        <li>Specify a timestamp</li>\n",
    "        <li>Specify an offset from the current time</li>\n",
    "    </ul>\n",
    "</ul>"
   ]
  },
  {
   "cell_type": "markdown",
   "id": "aba39d3c",
   "metadata": {},
   "source": [
    "<b>Refer Assignment 7 & 8</b>"
   ]
  },
  {
   "cell_type": "markdown",
   "id": "0c4f8bc3",
   "metadata": {},
   "source": [
    "<H2>Failsafe Storage</H2>\n",
    "<ul>\n",
    "<li>Failsafe providers a 7 day period during which historical data is recoverable by Snowflake</li>\n",
    "<li>The failsafe period starts immediately after the time travel period ends</li>\n",
    "<li>The failsafe data can be recovered only by the snowflake support. (normal users cannot access it)</li>\n",
    "<li>Providers a way to recover lost data in a relatively quick manner</li>\n",
    "<li>Snowflake's redundant & cheap data storage architecture reduces the need for backups,<br>\n",
    "there still can be scenarios for data loss</li>\n",
    "<li>Failsafe Storage provides a safety cusion in such scenarios and <br>\n",
    "allows you to recover data 7 days after time travel history is gone</li>\n",
    "<li>There will be a cost for Failsafe</li>\n",
    "</ul>"
   ]
  },
  {
   "cell_type": "markdown",
   "id": "5522c9db",
   "metadata": {},
   "source": [
    "<h3>Types of Tables in Snowflake</h3>\n",
    "<ul>\n",
    "<li><b>Temporary</b></li>\n",
    "    <ul>\n",
    "        <li>Exist only for the lifetime of a session</li>\n",
    "        <li>They are not visible to other sessions and are removed immedieately once session ends</li>\n",
    "    </ul>\n",
    "<li><b>Transient</b></li>\n",
    "    <ul>\n",
    "        <li>Similar to temporary tables, but they persist b/w sessions. <br>\n",
    "        They sre designed to hold temporary data that needs to be accessed across sessions e,g ETL jobs</li>\n",
    "    </ul>\n",
    "<li><b>Permanent</b></li>\n",
    "    <ul>\n",
    "        <li>This is the default type of table in snowflake, If you dont specify the type a table is created as Permanent.</li>\n",
    "    </ul>\n",
    "</ul>"
   ]
  },
  {
   "cell_type": "markdown",
   "id": "9e30e51e",
   "metadata": {},
   "source": [
    "<img src='https://i.ytimg.com/vi/9jMjXihNMdo/hq720.jpg?sqp=-oaymwEhCK4FEIIDSFryq4qpAxMIARUAAAAAGAElAADIQj0AgKJD&rs=AOn4CLAGp1XuLbpH0tPK-t5lPucG8qabwg'></img>"
   ]
  },
  {
   "cell_type": "markdown",
   "id": "5df7a9c6",
   "metadata": {},
   "source": [
    "<b>Refer Assignment 9</b>"
   ]
  },
  {
   "cell_type": "code",
   "execution_count": null,
   "id": "04610148",
   "metadata": {},
   "outputs": [],
   "source": []
  }
 ],
 "metadata": {
  "kernelspec": {
   "display_name": "Python 3 (ipykernel)",
   "language": "python",
   "name": "python3"
  },
  "language_info": {
   "codemirror_mode": {
    "name": "ipython",
    "version": 3
   },
   "file_extension": ".py",
   "mimetype": "text/x-python",
   "name": "python",
   "nbconvert_exporter": "python",
   "pygments_lexer": "ipython3",
   "version": "3.10.6"
  }
 },
 "nbformat": 4,
 "nbformat_minor": 5
}
