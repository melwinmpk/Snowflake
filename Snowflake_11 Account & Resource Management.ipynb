{
 "cells": [
  {
   "cell_type": "markdown",
   "id": "57cf4b34",
   "metadata": {},
   "source": [
    "<img src='https://github.com/melwinmpk/SCD_in_Warehouse/assets/25386607/558954ac-74f0-489b-8990-695f4044c844'>"
   ]
  },
  {
   "cell_type": "markdown",
   "id": "40d31d0a",
   "metadata": {},
   "source": [
    "Snowflake provides two ways to view credit usage and storage information.\n",
    "\n",
    "It provides metadata and usage information through the information schema, which is automatically created\n",
    "\n",
    "for each database in Snowflake.\n",
    "\n",
    "Snowflake also exposes consumption data via the Snowflake database, which is a system defined read\n",
    "\n",
    "only shared database that is automatically imported into each snowflake account.\n",
    "\n",
    "As shown on the screen, the snowflake database is made up of several schemas, each of which contains\n",
    "\n",
    "views that provide information such as storage and compute usage.\n",
    "\n",
    "Note that the snowflake database is only accessible to the account admin roll by default.\n",
    "\n",
    "Therefore, make sure you alter your role to account admin before accessing the snowflake database or\n",
    "\n",
    "its sub schemas.\n",
    "\n",
    "So let us briefly discuss these schemas.\n",
    "\n",
    "Some of these will be covered in a bit more depth later on.\n",
    "\n",
    "So the ACCOUNT_USAGE schema contains account level usage metrics and metadata.\n",
    "\n",
    "Views in the data sharing usage schema, provide information on snowflake Marketplace or data exchange\n",
    "\n",
    "listings.\n",
    "\n",
    "These views provide information such as listing access clicks and the number of queries run by other\n",
    "\n",
    "organizations on the shared data.\n",
    "\n",
    "The ORGANIZATION_USAGE schema includes views that display historical usage data for all of your organization's\n",
    "\n",
    "accounts.\n",
    "\n",
    "Finally, the views in READER_ACCOUNT_USAGE schema deal with usage statistics and metadata for all reader\n",
    "\n",
    "accounts connected with your accounts.\n",
    "\n",
    "This schema view are a subset of the views in the account usage schema."
   ]
  },
  {
   "cell_type": "markdown",
   "id": "81cc1bd9",
   "metadata": {},
   "source": [
    "<img src='https://github.com/melwinmpk/SCD_in_Warehouse/assets/25386607/ca5b6fd0-d656-4634-86d7-75c1c80a48c9'>"
   ]
  },
  {
   "cell_type": "markdown",
   "id": "c337aa30",
   "metadata": {},
   "source": [
    "<img src='https://github.com/melwinmpk/SCD_in_Warehouse/assets/25386607/a99c9af5-47c8-45fc-9bec-0d32c36d86b8'>"
   ]
  },
  {
   "cell_type": "markdown",
   "id": "fe932a83",
   "metadata": {},
   "source": [
    "<img src='https://github.com/melwinmpk/AmazonBooks_DataPipeline/assets/25386607/9bb342e9-b138-4934-936d-40bf6a70932a'>\n",
    "<img src='https://github.com/melwinmpk/AmazonBooks_DataPipeline/assets/25386607/dc4bddc3-9260-48d5-8508-0485e7d25e9f'>\n",
    "<img src='https://github.com/melwinmpk/AmazonBooks_DataPipeline/assets/25386607/3bb9601c-cc87-4182-94e2-13196edddeb3'>"
   ]
  },
  {
   "cell_type": "markdown",
   "id": "1954ef33",
   "metadata": {},
   "source": [
    "<p>Which of the following can be fulfilled through the ACCESS_HISTORY view in the ACCOUNT_USAGE schema?</p>\n",
    "<ul>\n",
    "    <li><b>Help identify data that is unused and is not being queried.</b></li>\n",
    "    <li>Identify who logged into the system.</li>\n",
    "    <li>Identify which roles were used by the logged-in user</li>\n",
    "    <li><b>Identify what data was accessed, when, and who accessed it.</b></li>\n",
    "</ul>\n",
    "\n",
    "<p>Which ACCOUNT_USAGE view provides information about which tables &amp; columns were read by queries in the last 12 months?</p>\n",
    "<ul>\n",
    "<li>QUERY_HISTORY</li>\n",
    "<li><b>ACCESS_HISTORY</b></li>\n",
    "<li>WAREHOUSE_EVENTS_HISTORY</li>\n",
    "<li>METERING_HISTORY</li>\n",
    "</ul>\n",
    "\n",
    "\n",
    "<p>Which ACCOUNT_USAGE view can be used to identify the most frequently accessed tables?</p>\n",
    "<ul>\n",
    "<li><b>ACCESS_HISTORY</b></li>\n",
    "<li>QUERY_HISTORY</li>\n",
    "<li>DATABASE_STORAGE_USAGE_HISTORY</li>\n",
    "<li>OBJECT_DEPENDENCIES</li>\n",
    "</ul>\n",
    "\n",
    "<p>Which of the following ACCOUNT_USAGE view can be used to view roles granted to users?</p>\n",
    "<ul>\n",
    "<li>OBJECT_DEPENDENCIES</li>\n",
    "<li><b>GRANTS_TO_USERS</b></li>\n",
    "<li>GRANTS_TO_ROLES</li>\n",
    "<li>ACCESS_HISTORY</li>\n",
    "</ul>\n",
    "\n",
    "<p>Which of the following ACCOUNT_USAGE view can be used to view credit usage by hour?</p>\n",
    "<ul>\n",
    "<li><b>METERING_HISTORY</b></li>\n",
    "<li>METERING_DAILY_HISTORY</li>\n",
    "<li>WAREHOUSE_EVENTS_HISTORY</li>\n",
    "<li>WAREHOUSE_LOAD_HISTORY</li>\n",
    "</ul>\n",
    "\n",
    "<p>Which of the following views can be used to view the last 365 days of data loading history for data loaded through Snowpipe\n",
    "</p>\n",
    "<ul>\n",
    "    <li>ACCOUNT_USAGE.LOAD_HISTORY</li>\n",
    "    <li><b>ACCOUNT_USAGE.PIPE_USAGE_HISTORY</b></li>\n",
    "    <li>INFORMATION_SCHEMA.QUERY_HISTORY</li>\n",
    "    <li><b>ACCOUNT_USAGE.COPY_HISTORY</b></li>\n",
    "</ul>\n",
    "\n",
    "<p>Which of the following is true for the DATABASE_STORAGE_USAGE_HISTORY view in the ACCOUNT_USAGE schema?</p>\n",
    "<ul>\n",
    "    <li><b>This view shows the number of bytes of database storage used, including Time Travel storage</b></li>\n",
    "    <li><b>This view shows the number of bytes of fail-safe storage used.</b></li>\n",
    "    <li><b>This view contains information for the last 365 days.</b></li>\n",
    "    <li><b>This view shows information for all databases, including deleted databases.</b></li>\n",
    "    <li>This view does not show information for deleted databases.</li>\n",
    "    <li>This view contains real-time information.</li>\n",
    "</ul>"
   ]
  },
  {
   "cell_type": "code",
   "execution_count": null,
   "id": "c978a3a4",
   "metadata": {},
   "outputs": [],
   "source": []
  }
 ],
 "metadata": {
  "kernelspec": {
   "display_name": "Python 3 (ipykernel)",
   "language": "python",
   "name": "python3"
  },
  "language_info": {
   "codemirror_mode": {
    "name": "ipython",
    "version": 3
   },
   "file_extension": ".py",
   "mimetype": "text/x-python",
   "name": "python",
   "nbconvert_exporter": "python",
   "pygments_lexer": "ipython3",
   "version": "3.10.6"
  }
 },
 "nbformat": 4,
 "nbformat_minor": 5
}
